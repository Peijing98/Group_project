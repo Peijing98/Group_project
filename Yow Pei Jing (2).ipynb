{
 "cells": [
  {
   "cell_type": "markdown",
   "id": "77364dd4",
   "metadata": {},
   "source": [
    "# Question 1"
   ]
  },
  {
   "cell_type": "markdown",
   "id": "2cc6e683",
   "metadata": {},
   "source": [
    "###  a) Impact of variables on firm's likelihood of having restatement"
   ]
  },
  {
   "cell_type": "markdown",
   "id": "8e31e6a5",
   "metadata": {},
   "source": [
    "1. <u>Ch_inv (change in inventory)</u>\n",
    "<br> An unusual trend in inventory such as the inventory rising faster than total assets could be a sign of inappropriate inventory valuation and inflated profits. Hence, a greater change in inventory might result in a higher likelihood of accounting restatement. \n",
    "<br> \n",
    "\n",
    "2. <u>Ch_cs (change in account receivables)</u>\n",
    "<br> An irrational change in account receivables such as the receivable increasing faster than sales could be a sign of inappropriate accounts-receivable valuation and sales fraud. Thus, a greater change in account receivables might lead to a higher probability of accounting restatement.\n",
    "<br> \n",
    "\n",
    "3. <u>Ch_emp (change in employees)</u>\n",
    "<br> An abnormal employment change such as the employment growing faster than assets could be a warning sign of accounting fraud and misstatement. In sum, an unusual employment change is associated with a higher risk of an accounting restatement.\n",
    "<br> \n",
    "\n",
    "4. <u>Oplease (change in the present value of future operating lease)</u>\n",
    "<br> An unusual trend in operating leases such as the present value of operating leases rising faster than total assets could be a sign of recognition error and accounting fraud. Hence, a greater change in operating lease might lead to a higher likelihood of accounting restatement. \n",
    "<br> \n",
    "\n",
    "5. <u>Issue (firm issued securities recently)</u>\n",
    "<br> A firm that had just issued securities might possess a higher chance of misstatement from equity transaction and valuation errors. Thus, a firm that issued securities recently might result in a higher risk of having an accounting restatement.\n",
    "<br> \n",
    "\n",
    "6. <u>Ret (stock return in the past year)</u>\n",
    "<br> A firm with a low stock return might possess a higher probability of misstatement and fraud to manipulate financial statements. In sum, a firm with a lower stock return in the past year might lead to a higher probability of accounting restatement.\n"
   ]
  },
  {
   "cell_type": "markdown",
   "id": "f58cff9b",
   "metadata": {},
   "source": [
    "###  b) Reason for including dummy variables in regression"
   ]
  },
  {
   "cell_type": "markdown",
   "id": "b547006f",
   "metadata": {},
   "source": [
    "The industry and year are included as dummy variables in the regression to <b> represent their categorical value </b>. It categorised the industry of each company from industry 1 to industry 15 and their financial year from 2001 to 2010. A dummy variable is a binary variable that takes a value of 0 or 1. This type of specification in regression models is useful to define subsets of observations that have different intercepts and slopes without the creation of separate models. Besides, representing data in the form of dummy variables will make it easier to turn\n",
    "the model into a decision tool."
   ]
  },
  {
   "cell_type": "markdown",
   "id": "a2a9ced0",
   "metadata": {},
   "source": [
    "### c) Other x-variables that should be included in the regression"
   ]
  },
  {
   "cell_type": "markdown",
   "id": "33956b35",
   "metadata": {},
   "source": [
    "1. <u> Audit tenure </u>\n",
    "<br> Audit tenure should be included in the regression as the tenure of an audit firm could affect the audit quality and the discovery of misstatements. Hence, a shorter audit tenure might lead to a higher likelihood of accounting restatement.\n",
    "<br> \n",
    "\n",
    "2. <u>leverage </u>\n",
    "<br> A firm with higher leverage might increase the firm’s financial pressure and debt covenant violation risk, which may increase management’s tendency to misstate the financial statement. In sum, a firm with higher leverage might result in a higher probability of accounting restatement.\n",
    "<br> \n",
    "\n",
    "3. <u>ch_roa (change in ROA)</u>\n",
    "<br> An unusual trend in ROA could be a sign of earnings manipulation as less profitable firms have incentives to boost profit. Thus, a greater change in ROA might lead to a higher risk of an accounting restatement. \n"
   ]
  },
  {
   "cell_type": "markdown",
   "id": "24c5be50",
   "metadata": {},
   "source": [
    "###  d) OLS Regreesion"
   ]
  },
  {
   "cell_type": "code",
   "execution_count": 2,
   "id": "692c45cc",
   "metadata": {},
   "outputs": [
    {
     "data": {
      "text/html": [
       "<div>\n",
       "<style scoped>\n",
       "    .dataframe tbody tr th:only-of-type {\n",
       "        vertical-align: middle;\n",
       "    }\n",
       "\n",
       "    .dataframe tbody tr th {\n",
       "        vertical-align: top;\n",
       "    }\n",
       "\n",
       "    .dataframe thead th {\n",
       "        text-align: right;\n",
       "    }\n",
       "</style>\n",
       "<table border=\"1\" class=\"dataframe\">\n",
       "  <thead>\n",
       "    <tr style=\"text-align: right;\">\n",
       "      <th></th>\n",
       "      <th>gvkey</th>\n",
       "      <th>date</th>\n",
       "      <th>fyear</th>\n",
       "      <th>foreign</th>\n",
       "      <th>big4</th>\n",
       "      <th>audit_ch</th>\n",
       "      <th>audit_tenure</th>\n",
       "      <th>ret</th>\n",
       "      <th>lagret1</th>\n",
       "      <th>ffind</th>\n",
       "      <th>...</th>\n",
       "      <th>ind8</th>\n",
       "      <th>ind9</th>\n",
       "      <th>ind10</th>\n",
       "      <th>ind11</th>\n",
       "      <th>ind12</th>\n",
       "      <th>ind13</th>\n",
       "      <th>ind14</th>\n",
       "      <th>ind15</th>\n",
       "      <th>test</th>\n",
       "      <th>validation</th>\n",
       "    </tr>\n",
       "  </thead>\n",
       "  <tbody>\n",
       "    <tr>\n",
       "      <th>0</th>\n",
       "      <td>1004</td>\n",
       "      <td>31-May-02</td>\n",
       "      <td>2001</td>\n",
       "      <td>0</td>\n",
       "      <td>1</td>\n",
       "      <td>0</td>\n",
       "      <td>18</td>\n",
       "      <td>-0.051837</td>\n",
       "      <td>0.139215</td>\n",
       "      <td>Retail</td>\n",
       "      <td>...</td>\n",
       "      <td>0</td>\n",
       "      <td>0</td>\n",
       "      <td>0</td>\n",
       "      <td>0</td>\n",
       "      <td>1</td>\n",
       "      <td>0</td>\n",
       "      <td>0</td>\n",
       "      <td>0</td>\n",
       "      <td>0</td>\n",
       "      <td>0</td>\n",
       "    </tr>\n",
       "    <tr>\n",
       "      <th>1</th>\n",
       "      <td>1004</td>\n",
       "      <td>31-May-03</td>\n",
       "      <td>2002</td>\n",
       "      <td>0</td>\n",
       "      <td>1</td>\n",
       "      <td>0</td>\n",
       "      <td>19</td>\n",
       "      <td>-0.541911</td>\n",
       "      <td>-0.051837</td>\n",
       "      <td>Retail</td>\n",
       "      <td>...</td>\n",
       "      <td>0</td>\n",
       "      <td>0</td>\n",
       "      <td>0</td>\n",
       "      <td>0</td>\n",
       "      <td>1</td>\n",
       "      <td>0</td>\n",
       "      <td>0</td>\n",
       "      <td>0</td>\n",
       "      <td>0</td>\n",
       "      <td>0</td>\n",
       "    </tr>\n",
       "    <tr>\n",
       "      <th>2</th>\n",
       "      <td>1004</td>\n",
       "      <td>31-May-04</td>\n",
       "      <td>2003</td>\n",
       "      <td>0</td>\n",
       "      <td>1</td>\n",
       "      <td>0</td>\n",
       "      <td>20</td>\n",
       "      <td>0.918543</td>\n",
       "      <td>-0.541911</td>\n",
       "      <td>Retail</td>\n",
       "      <td>...</td>\n",
       "      <td>0</td>\n",
       "      <td>0</td>\n",
       "      <td>0</td>\n",
       "      <td>0</td>\n",
       "      <td>1</td>\n",
       "      <td>0</td>\n",
       "      <td>0</td>\n",
       "      <td>0</td>\n",
       "      <td>0</td>\n",
       "      <td>0</td>\n",
       "    </tr>\n",
       "    <tr>\n",
       "      <th>3</th>\n",
       "      <td>1004</td>\n",
       "      <td>31-May-05</td>\n",
       "      <td>2004</td>\n",
       "      <td>0</td>\n",
       "      <td>1</td>\n",
       "      <td>0</td>\n",
       "      <td>21</td>\n",
       "      <td>0.574125</td>\n",
       "      <td>0.918543</td>\n",
       "      <td>Retail</td>\n",
       "      <td>...</td>\n",
       "      <td>0</td>\n",
       "      <td>0</td>\n",
       "      <td>0</td>\n",
       "      <td>0</td>\n",
       "      <td>1</td>\n",
       "      <td>0</td>\n",
       "      <td>0</td>\n",
       "      <td>0</td>\n",
       "      <td>0</td>\n",
       "      <td>0</td>\n",
       "    </tr>\n",
       "    <tr>\n",
       "      <th>4</th>\n",
       "      <td>1004</td>\n",
       "      <td>31-May-06</td>\n",
       "      <td>2005</td>\n",
       "      <td>0</td>\n",
       "      <td>1</td>\n",
       "      <td>0</td>\n",
       "      <td>22</td>\n",
       "      <td>0.375776</td>\n",
       "      <td>0.574125</td>\n",
       "      <td>Retail</td>\n",
       "      <td>...</td>\n",
       "      <td>0</td>\n",
       "      <td>0</td>\n",
       "      <td>0</td>\n",
       "      <td>0</td>\n",
       "      <td>1</td>\n",
       "      <td>0</td>\n",
       "      <td>0</td>\n",
       "      <td>0</td>\n",
       "      <td>0</td>\n",
       "      <td>0</td>\n",
       "    </tr>\n",
       "  </tbody>\n",
       "</table>\n",
       "<p>5 rows × 93 columns</p>\n",
       "</div>"
      ],
      "text/plain": [
       "   gvkey       date  fyear  foreign  big4  audit_ch  audit_tenure       ret  \\\n",
       "0   1004  31-May-02   2001        0     1         0            18 -0.051837   \n",
       "1   1004  31-May-03   2002        0     1         0            19 -0.541911   \n",
       "2   1004  31-May-04   2003        0     1         0            20  0.918543   \n",
       "3   1004  31-May-05   2004        0     1         0            21  0.574125   \n",
       "4   1004  31-May-06   2005        0     1         0            22  0.375776   \n",
       "\n",
       "    lagret1   ffind  ...  ind8  ind9  ind10  ind11  ind12  ind13  ind14  \\\n",
       "0  0.139215  Retail  ...     0     0      0      0      1      0      0   \n",
       "1 -0.051837  Retail  ...     0     0      0      0      1      0      0   \n",
       "2 -0.541911  Retail  ...     0     0      0      0      1      0      0   \n",
       "3  0.918543  Retail  ...     0     0      0      0      1      0      0   \n",
       "4  0.574125  Retail  ...     0     0      0      0      1      0      0   \n",
       "\n",
       "   ind15  test  validation  \n",
       "0      0     0           0  \n",
       "1      0     0           0  \n",
       "2      0     0           0  \n",
       "3      0     0           0  \n",
       "4      0     0           0  \n",
       "\n",
       "[5 rows x 93 columns]"
      ]
     },
     "execution_count": 2,
     "metadata": {},
     "output_type": "execute_result"
    }
   ],
   "source": [
    "import pandas as pd\n",
    "import statsmodels.api as sm\n",
    "import numpy as np\n",
    "import sklearn\n",
    "\n",
    "import os   \n",
    "os.getcwd()\n",
    "df_data_final = pd.read_csv('C:\\\\Users\\\\Yowpe\\\\Downloads\\\\Code\\\\data_final.csv')\n",
    "df_data_final.head()"
   ]
  },
  {
   "cell_type": "code",
   "execution_count": 6,
   "id": "e11a3a16",
   "metadata": {},
   "outputs": [],
   "source": [
    "df_data_final['fyear_new']=df_data_final['fyear']\n",
    "df_data_final =pd.get_dummies(df_data_final, columns=['fyear'])\n",
    "col_year = ['fyear_{}'.format(2001 + i) for i in range(10)]\n",
    "\n",
    "col_ind = ['ind{}'.format(i+1) for i in range(14)]"
   ]
  },
  {
   "cell_type": "code",
   "execution_count": 7,
   "id": "ae1d47bb",
   "metadata": {
    "scrolled": false
   },
   "outputs": [
    {
     "data": {
      "text/html": [
       "<table class=\"simpletable\">\n",
       "<caption>OLS Regression Results</caption>\n",
       "<tr>\n",
       "  <th>Dep. Variable:</th>       <td>restatement</td>   <th>  R-squared:         </th> <td>   0.030</td> \n",
       "</tr>\n",
       "<tr>\n",
       "  <th>Model:</th>                   <td>OLS</td>       <th>  Adj. R-squared:    </th> <td>   0.030</td> \n",
       "</tr>\n",
       "<tr>\n",
       "  <th>Method:</th>             <td>Least Squares</td>  <th>  F-statistic:       </th> <td>   44.66</td> \n",
       "</tr>\n",
       "<tr>\n",
       "  <th>Date:</th>             <td>Fri, 30 Sep 2022</td> <th>  Prob (F-statistic):</th> <td>9.21e-259</td>\n",
       "</tr>\n",
       "<tr>\n",
       "  <th>Time:</th>                 <td>19:51:38</td>     <th>  Log-Likelihood:    </th> <td> -2641.5</td> \n",
       "</tr>\n",
       "<tr>\n",
       "  <th>No. Observations:</th>      <td> 43031</td>      <th>  AIC:               </th> <td>   5345.</td> \n",
       "</tr>\n",
       "<tr>\n",
       "  <th>Df Residuals:</th>          <td> 43000</td>      <th>  BIC:               </th> <td>   5614.</td> \n",
       "</tr>\n",
       "<tr>\n",
       "  <th>Df Model:</th>              <td>    30</td>      <th>                     </th>     <td> </td>    \n",
       "</tr>\n",
       "<tr>\n",
       "  <th>Covariance Type:</th>      <td>nonrobust</td>    <th>                     </th>     <td> </td>    \n",
       "</tr>\n",
       "</table>\n",
       "<table class=\"simpletable\">\n",
       "<tr>\n",
       "       <td></td>         <th>coef</th>     <th>std err</th>      <th>t</th>      <th>P>|t|</th>  <th>[0.025</th>    <th>0.975]</th>  \n",
       "</tr>\n",
       "<tr>\n",
       "  <th>const</th>      <td>    0.0189</td> <td>    0.007</td> <td>    2.621</td> <td> 0.009</td> <td>    0.005</td> <td>    0.033</td>\n",
       "</tr>\n",
       "<tr>\n",
       "  <th>ch_inv</th>     <td>    0.0328</td> <td>    0.036</td> <td>    0.913</td> <td> 0.361</td> <td>   -0.038</td> <td>    0.103</td>\n",
       "</tr>\n",
       "<tr>\n",
       "  <th>ch_cs</th>      <td>    0.0020</td> <td>    0.001</td> <td>    2.056</td> <td> 0.040</td> <td> 9.45e-05</td> <td>    0.004</td>\n",
       "</tr>\n",
       "<tr>\n",
       "  <th>ch_emp</th>     <td>   -0.0168</td> <td>    0.005</td> <td>   -3.725</td> <td> 0.000</td> <td>   -0.026</td> <td>   -0.008</td>\n",
       "</tr>\n",
       "<tr>\n",
       "  <th>oplease</th>    <td>    0.1951</td> <td>    0.049</td> <td>    3.982</td> <td> 0.000</td> <td>    0.099</td> <td>    0.291</td>\n",
       "</tr>\n",
       "<tr>\n",
       "  <th>issue</th>      <td>    0.0268</td> <td>    0.004</td> <td>    6.351</td> <td> 0.000</td> <td>    0.018</td> <td>    0.035</td>\n",
       "</tr>\n",
       "<tr>\n",
       "  <th>ret</th>        <td>   -0.0055</td> <td>    0.002</td> <td>   -2.469</td> <td> 0.014</td> <td>   -0.010</td> <td>   -0.001</td>\n",
       "</tr>\n",
       "<tr>\n",
       "  <th>ind1</th>       <td>   -0.0069</td> <td>    0.027</td> <td>   -0.258</td> <td> 0.797</td> <td>   -0.060</td> <td>    0.046</td>\n",
       "</tr>\n",
       "<tr>\n",
       "  <th>ind2</th>       <td>    0.0268</td> <td>    0.009</td> <td>    3.092</td> <td> 0.002</td> <td>    0.010</td> <td>    0.044</td>\n",
       "</tr>\n",
       "<tr>\n",
       "  <th>ind3</th>       <td>    0.0057</td> <td>    0.010</td> <td>    0.586</td> <td> 0.558</td> <td>   -0.013</td> <td>    0.025</td>\n",
       "</tr>\n",
       "<tr>\n",
       "  <th>ind4</th>       <td>    0.0057</td> <td>    0.013</td> <td>    0.434</td> <td> 0.664</td> <td>   -0.020</td> <td>    0.031</td>\n",
       "</tr>\n",
       "<tr>\n",
       "  <th>ind5</th>       <td>   -0.0385</td> <td>    0.009</td> <td>   -4.175</td> <td> 0.000</td> <td>   -0.057</td> <td>   -0.020</td>\n",
       "</tr>\n",
       "<tr>\n",
       "  <th>ind6</th>       <td>   -0.0258</td> <td>    0.009</td> <td>   -2.731</td> <td> 0.006</td> <td>   -0.044</td> <td>   -0.007</td>\n",
       "</tr>\n",
       "<tr>\n",
       "  <th>ind7</th>       <td>    0.0134</td> <td>    0.008</td> <td>    1.721</td> <td> 0.085</td> <td>   -0.002</td> <td>    0.029</td>\n",
       "</tr>\n",
       "<tr>\n",
       "  <th>ind8</th>       <td>   -0.0014</td> <td>    0.005</td> <td>   -0.267</td> <td> 0.790</td> <td>   -0.012</td> <td>    0.009</td>\n",
       "</tr>\n",
       "<tr>\n",
       "  <th>ind9</th>       <td>    0.0424</td> <td>    0.006</td> <td>    7.487</td> <td> 0.000</td> <td>    0.031</td> <td>    0.053</td>\n",
       "</tr>\n",
       "<tr>\n",
       "  <th>ind10</th>      <td>    0.0054</td> <td>    0.007</td> <td>    0.753</td> <td> 0.452</td> <td>   -0.009</td> <td>    0.019</td>\n",
       "</tr>\n",
       "<tr>\n",
       "  <th>ind11</th>      <td>   -0.0251</td> <td>    0.008</td> <td>   -3.006</td> <td> 0.003</td> <td>   -0.041</td> <td>   -0.009</td>\n",
       "</tr>\n",
       "<tr>\n",
       "  <th>ind12</th>      <td>    0.0493</td> <td>    0.006</td> <td>    7.694</td> <td> 0.000</td> <td>    0.037</td> <td>    0.062</td>\n",
       "</tr>\n",
       "<tr>\n",
       "  <th>ind13</th>      <td>    0.0312</td> <td>    0.006</td> <td>    4.999</td> <td> 0.000</td> <td>    0.019</td> <td>    0.043</td>\n",
       "</tr>\n",
       "<tr>\n",
       "  <th>ind14</th>      <td>   -0.0331</td> <td>    0.005</td> <td>   -6.110</td> <td> 0.000</td> <td>   -0.044</td> <td>   -0.022</td>\n",
       "</tr>\n",
       "<tr>\n",
       "  <th>fyear_2001</th> <td>    0.0677</td> <td>    0.006</td> <td>   11.087</td> <td> 0.000</td> <td>    0.056</td> <td>    0.080</td>\n",
       "</tr>\n",
       "<tr>\n",
       "  <th>fyear_2002</th> <td>    0.0732</td> <td>    0.006</td> <td>   12.118</td> <td> 0.000</td> <td>    0.061</td> <td>    0.085</td>\n",
       "</tr>\n",
       "<tr>\n",
       "  <th>fyear_2003</th> <td>    0.0701</td> <td>    0.006</td> <td>   11.549</td> <td> 0.000</td> <td>    0.058</td> <td>    0.082</td>\n",
       "</tr>\n",
       "<tr>\n",
       "  <th>fyear_2004</th> <td>    0.0616</td> <td>    0.006</td> <td>   10.366</td> <td> 0.000</td> <td>    0.050</td> <td>    0.073</td>\n",
       "</tr>\n",
       "<tr>\n",
       "  <th>fyear_2005</th> <td>    0.0361</td> <td>    0.006</td> <td>    6.172</td> <td> 0.000</td> <td>    0.025</td> <td>    0.048</td>\n",
       "</tr>\n",
       "<tr>\n",
       "  <th>fyear_2006</th> <td>    0.0054</td> <td>    0.006</td> <td>    0.935</td> <td> 0.350</td> <td>   -0.006</td> <td>    0.017</td>\n",
       "</tr>\n",
       "<tr>\n",
       "  <th>fyear_2007</th> <td>   -0.0058</td> <td>    0.006</td> <td>   -1.015</td> <td> 0.310</td> <td>   -0.017</td> <td>    0.005</td>\n",
       "</tr>\n",
       "<tr>\n",
       "  <th>fyear_2008</th> <td>   -0.0091</td> <td>    0.006</td> <td>   -1.602</td> <td> 0.109</td> <td>   -0.020</td> <td>    0.002</td>\n",
       "</tr>\n",
       "<tr>\n",
       "  <th>fyear_2009</th> <td>   -0.0007</td> <td>    0.006</td> <td>   -0.117</td> <td> 0.907</td> <td>   -0.012</td> <td>    0.011</td>\n",
       "</tr>\n",
       "<tr>\n",
       "  <th>fyear_2010</th> <td>    0.0011</td> <td>    0.006</td> <td>    0.189</td> <td> 0.850</td> <td>   -0.010</td> <td>    0.012</td>\n",
       "</tr>\n",
       "</table>\n",
       "<table class=\"simpletable\">\n",
       "<tr>\n",
       "  <th>Omnibus:</th>       <td>26715.627</td> <th>  Durbin-Watson:     </th>  <td>   0.792</td> \n",
       "</tr>\n",
       "<tr>\n",
       "  <th>Prob(Omnibus):</th>  <td> 0.000</td>   <th>  Jarque-Bera (JB):  </th> <td>188685.936</td>\n",
       "</tr>\n",
       "<tr>\n",
       "  <th>Skew:</th>           <td> 3.117</td>   <th>  Prob(JB):          </th>  <td>    0.00</td> \n",
       "</tr>\n",
       "<tr>\n",
       "  <th>Kurtosis:</th>       <td>11.147</td>   <th>  Cond. No.          </th>  <td>    57.3</td> \n",
       "</tr>\n",
       "</table><br/><br/>Notes:<br/>[1] Standard Errors assume that the covariance matrix of the errors is correctly specified."
      ],
      "text/plain": [
       "<class 'statsmodels.iolib.summary.Summary'>\n",
       "\"\"\"\n",
       "                            OLS Regression Results                            \n",
       "==============================================================================\n",
       "Dep. Variable:            restatement   R-squared:                       0.030\n",
       "Model:                            OLS   Adj. R-squared:                  0.030\n",
       "Method:                 Least Squares   F-statistic:                     44.66\n",
       "Date:                Fri, 30 Sep 2022   Prob (F-statistic):          9.21e-259\n",
       "Time:                        19:51:38   Log-Likelihood:                -2641.5\n",
       "No. Observations:               43031   AIC:                             5345.\n",
       "Df Residuals:                   43000   BIC:                             5614.\n",
       "Df Model:                          30                                         \n",
       "Covariance Type:            nonrobust                                         \n",
       "==============================================================================\n",
       "                 coef    std err          t      P>|t|      [0.025      0.975]\n",
       "------------------------------------------------------------------------------\n",
       "const          0.0189      0.007      2.621      0.009       0.005       0.033\n",
       "ch_inv         0.0328      0.036      0.913      0.361      -0.038       0.103\n",
       "ch_cs          0.0020      0.001      2.056      0.040    9.45e-05       0.004\n",
       "ch_emp        -0.0168      0.005     -3.725      0.000      -0.026      -0.008\n",
       "oplease        0.1951      0.049      3.982      0.000       0.099       0.291\n",
       "issue          0.0268      0.004      6.351      0.000       0.018       0.035\n",
       "ret           -0.0055      0.002     -2.469      0.014      -0.010      -0.001\n",
       "ind1          -0.0069      0.027     -0.258      0.797      -0.060       0.046\n",
       "ind2           0.0268      0.009      3.092      0.002       0.010       0.044\n",
       "ind3           0.0057      0.010      0.586      0.558      -0.013       0.025\n",
       "ind4           0.0057      0.013      0.434      0.664      -0.020       0.031\n",
       "ind5          -0.0385      0.009     -4.175      0.000      -0.057      -0.020\n",
       "ind6          -0.0258      0.009     -2.731      0.006      -0.044      -0.007\n",
       "ind7           0.0134      0.008      1.721      0.085      -0.002       0.029\n",
       "ind8          -0.0014      0.005     -0.267      0.790      -0.012       0.009\n",
       "ind9           0.0424      0.006      7.487      0.000       0.031       0.053\n",
       "ind10          0.0054      0.007      0.753      0.452      -0.009       0.019\n",
       "ind11         -0.0251      0.008     -3.006      0.003      -0.041      -0.009\n",
       "ind12          0.0493      0.006      7.694      0.000       0.037       0.062\n",
       "ind13          0.0312      0.006      4.999      0.000       0.019       0.043\n",
       "ind14         -0.0331      0.005     -6.110      0.000      -0.044      -0.022\n",
       "fyear_2001     0.0677      0.006     11.087      0.000       0.056       0.080\n",
       "fyear_2002     0.0732      0.006     12.118      0.000       0.061       0.085\n",
       "fyear_2003     0.0701      0.006     11.549      0.000       0.058       0.082\n",
       "fyear_2004     0.0616      0.006     10.366      0.000       0.050       0.073\n",
       "fyear_2005     0.0361      0.006      6.172      0.000       0.025       0.048\n",
       "fyear_2006     0.0054      0.006      0.935      0.350      -0.006       0.017\n",
       "fyear_2007    -0.0058      0.006     -1.015      0.310      -0.017       0.005\n",
       "fyear_2008    -0.0091      0.006     -1.602      0.109      -0.020       0.002\n",
       "fyear_2009    -0.0007      0.006     -0.117      0.907      -0.012       0.011\n",
       "fyear_2010     0.0011      0.006      0.189      0.850      -0.010       0.012\n",
       "==============================================================================\n",
       "Omnibus:                    26715.627   Durbin-Watson:                   0.792\n",
       "Prob(Omnibus):                  0.000   Jarque-Bera (JB):           188685.936\n",
       "Skew:                           3.117   Prob(JB):                         0.00\n",
       "Kurtosis:                      11.147   Cond. No.                         57.3\n",
       "==============================================================================\n",
       "\n",
       "Notes:\n",
       "[1] Standard Errors assume that the covariance matrix of the errors is correctly specified.\n",
       "\"\"\""
      ]
     },
     "execution_count": 7,
     "metadata": {},
     "output_type": "execute_result"
    }
   ],
   "source": [
    "cond_0 = (df_data_final['test'] == 0) \n",
    "cond_1 = (df_data_final['test'] == 1)\n",
    "    \n",
    "X_columns = ['ch_inv', 'ch_cs', 'ch_emp', 'oplease', 'issue','ret'] + col_ind + col_year\n",
    "x = df_data_final.loc[cond_0, X_columns] \n",
    "x = sm.add_constant(x) \n",
    "\n",
    "y = df_data_final.loc[cond_0, 'restatement']\n",
    "\n",
    "model = sm.OLS(y, x).fit()\n",
    "model.summary()"
   ]
  },
  {
   "cell_type": "markdown",
   "id": "f8ecbb34",
   "metadata": {},
   "source": [
    "# Question 2"
   ]
  },
  {
   "cell_type": "markdown",
   "id": "940aa8d8",
   "metadata": {},
   "source": [
    "### a)  R-square (OLS)"
   ]
  },
  {
   "cell_type": "markdown",
   "id": "6c5d1621",
   "metadata": {},
   "source": [
    "R-square = 0.030"
   ]
  },
  {
   "cell_type": "markdown",
   "id": "4ca85665",
   "metadata": {},
   "source": [
    "### b) R-square (Manual Calculation)"
   ]
  },
  {
   "cell_type": "code",
   "execution_count": 8,
   "id": "c31ae827",
   "metadata": {},
   "outputs": [
    {
     "data": {
      "text/plain": [
       "88.75328198905163"
      ]
     },
     "execution_count": 8,
     "metadata": {},
     "output_type": "execute_result"
    }
   ],
   "source": [
    "model.ess "
   ]
  },
  {
   "cell_type": "code",
   "execution_count": 9,
   "id": "449abb4d",
   "metadata": {},
   "outputs": [
    {
     "data": {
      "text/plain": [
       "2848.5723669617037"
      ]
     },
     "execution_count": 9,
     "metadata": {},
     "output_type": "execute_result"
    }
   ],
   "source": [
    "model.ssr"
   ]
  },
  {
   "cell_type": "code",
   "execution_count": 10,
   "id": "ece36a15",
   "metadata": {},
   "outputs": [
    {
     "name": "stdout",
     "output_type": "stream",
     "text": [
      "R^2 = 0.03021567663794965\n"
     ]
    }
   ],
   "source": [
    "ess = model.ess\n",
    "tss = model.ssr + ess\n",
    "r_2 = ess/tss\n",
    "print('R^2 =', r_2)"
   ]
  },
  {
   "cell_type": "markdown",
   "id": "e25253f0",
   "metadata": {},
   "source": [
    "###  c) Adjusted R-square (OLS)"
   ]
  },
  {
   "cell_type": "markdown",
   "id": "41973abb",
   "metadata": {},
   "source": [
    "Adjusted R-square = 0.030 "
   ]
  },
  {
   "cell_type": "markdown",
   "id": "d9673bbc",
   "metadata": {},
   "source": [
    "### d) Adjusted R-square (Manual Calculation)"
   ]
  },
  {
   "cell_type": "markdown",
   "id": "0ca2c2cb",
   "metadata": {},
   "source": [
    "$Adjusted$ $R^2$ $= 1-\\frac{\\frac{RSS}{N-K-1}}{\\frac{TSS}{N-1}}$"
   ]
  },
  {
   "cell_type": "code",
   "execution_count": 11,
   "id": "10451932",
   "metadata": {},
   "outputs": [
    {
     "name": "stdout",
     "output_type": "stream",
     "text": [
      "R^2 = 0.029516513540570055\n"
     ]
    }
   ],
   "source": [
    "ess = model.ess\n",
    "rss = model.ssr\n",
    "tss = model.ssr + ess\n",
    "\n",
    "n= len(y)\n",
    "k= x.shape[1]\n",
    "\n",
    "adjusted_r_2 = 1-((rss/(n-k-1))/(tss/(n-1)))\n",
    "print('R^2 =', adjusted_r_2)"
   ]
  },
  {
   "cell_type": "code",
   "execution_count": 12,
   "id": "e0f497a8",
   "metadata": {},
   "outputs": [
    {
     "data": {
      "text/plain": [
       "0.029516513540570166"
      ]
     },
     "execution_count": 12,
     "metadata": {},
     "output_type": "execute_result"
    }
   ],
   "source": [
    "adjusted_r_2 = 1 - (1-r_2)*(len(y)-1)/(len(y)-x.shape[1]-1)\n",
    "\n",
    "adjusted_r_2\n",
    "\n",
    "#check this, which one correct ?"
   ]
  },
  {
   "cell_type": "markdown",
   "id": "6844c902",
   "metadata": {},
   "source": [
    "### e) Variables Singnificant Level"
   ]
  },
  {
   "cell_type": "code",
   "execution_count": 13,
   "id": "b8522974",
   "metadata": {},
   "outputs": [
    {
     "data": {
      "text/html": [
       "<div>\n",
       "<style scoped>\n",
       "    .dataframe tbody tr th:only-of-type {\n",
       "        vertical-align: middle;\n",
       "    }\n",
       "\n",
       "    .dataframe tbody tr th {\n",
       "        vertical-align: top;\n",
       "    }\n",
       "\n",
       "    .dataframe thead th {\n",
       "        text-align: right;\n",
       "    }\n",
       "</style>\n",
       "<table border=\"1\" class=\"dataframe\">\n",
       "  <thead>\n",
       "    <tr style=\"text-align: right;\">\n",
       "      <th></th>\n",
       "      <th>pvalue</th>\n",
       "    </tr>\n",
       "  </thead>\n",
       "  <tbody>\n",
       "    <tr>\n",
       "      <th>const</th>\n",
       "      <td>8.772734e-03</td>\n",
       "    </tr>\n",
       "    <tr>\n",
       "      <th>ch_inv</th>\n",
       "      <td>3.610245e-01</td>\n",
       "    </tr>\n",
       "    <tr>\n",
       "      <th>ch_cs</th>\n",
       "      <td>3.980055e-02</td>\n",
       "    </tr>\n",
       "    <tr>\n",
       "      <th>ch_emp</th>\n",
       "      <td>1.959284e-04</td>\n",
       "    </tr>\n",
       "    <tr>\n",
       "      <th>oplease</th>\n",
       "      <td>6.839848e-05</td>\n",
       "    </tr>\n",
       "    <tr>\n",
       "      <th>issue</th>\n",
       "      <td>2.158107e-10</td>\n",
       "    </tr>\n",
       "    <tr>\n",
       "      <th>ret</th>\n",
       "      <td>1.357181e-02</td>\n",
       "    </tr>\n",
       "    <tr>\n",
       "      <th>ind1</th>\n",
       "      <td>7.965258e-01</td>\n",
       "    </tr>\n",
       "    <tr>\n",
       "      <th>ind2</th>\n",
       "      <td>1.987462e-03</td>\n",
       "    </tr>\n",
       "    <tr>\n",
       "      <th>ind3</th>\n",
       "      <td>5.579976e-01</td>\n",
       "    </tr>\n",
       "    <tr>\n",
       "      <th>ind4</th>\n",
       "      <td>6.640359e-01</td>\n",
       "    </tr>\n",
       "    <tr>\n",
       "      <th>ind5</th>\n",
       "      <td>2.981275e-05</td>\n",
       "    </tr>\n",
       "    <tr>\n",
       "      <th>ind6</th>\n",
       "      <td>6.324402e-03</td>\n",
       "    </tr>\n",
       "    <tr>\n",
       "      <th>ind7</th>\n",
       "      <td>8.532567e-02</td>\n",
       "    </tr>\n",
       "    <tr>\n",
       "      <th>ind8</th>\n",
       "      <td>7.895519e-01</td>\n",
       "    </tr>\n",
       "    <tr>\n",
       "      <th>ind9</th>\n",
       "      <td>7.176873e-14</td>\n",
       "    </tr>\n",
       "    <tr>\n",
       "      <th>ind10</th>\n",
       "      <td>4.515469e-01</td>\n",
       "    </tr>\n",
       "    <tr>\n",
       "      <th>ind11</th>\n",
       "      <td>2.652944e-03</td>\n",
       "    </tr>\n",
       "    <tr>\n",
       "      <th>ind12</th>\n",
       "      <td>1.460538e-14</td>\n",
       "    </tr>\n",
       "    <tr>\n",
       "      <th>ind13</th>\n",
       "      <td>5.777620e-07</td>\n",
       "    </tr>\n",
       "    <tr>\n",
       "      <th>ind14</th>\n",
       "      <td>1.002668e-09</td>\n",
       "    </tr>\n",
       "    <tr>\n",
       "      <th>fyear_2001</th>\n",
       "      <td>1.577165e-28</td>\n",
       "    </tr>\n",
       "    <tr>\n",
       "      <th>fyear_2002</th>\n",
       "      <td>9.655677e-34</td>\n",
       "    </tr>\n",
       "    <tr>\n",
       "      <th>fyear_2003</th>\n",
       "      <td>8.269085e-31</td>\n",
       "    </tr>\n",
       "    <tr>\n",
       "      <th>fyear_2004</th>\n",
       "      <td>3.789503e-25</td>\n",
       "    </tr>\n",
       "    <tr>\n",
       "      <th>fyear_2005</th>\n",
       "      <td>6.793068e-10</td>\n",
       "    </tr>\n",
       "    <tr>\n",
       "      <th>fyear_2006</th>\n",
       "      <td>3.496170e-01</td>\n",
       "    </tr>\n",
       "    <tr>\n",
       "      <th>fyear_2007</th>\n",
       "      <td>3.101281e-01</td>\n",
       "    </tr>\n",
       "    <tr>\n",
       "      <th>fyear_2008</th>\n",
       "      <td>1.092103e-01</td>\n",
       "    </tr>\n",
       "    <tr>\n",
       "      <th>fyear_2009</th>\n",
       "      <td>9.066565e-01</td>\n",
       "    </tr>\n",
       "    <tr>\n",
       "      <th>fyear_2010</th>\n",
       "      <td>8.504767e-01</td>\n",
       "    </tr>\n",
       "  </tbody>\n",
       "</table>\n",
       "</div>"
      ],
      "text/plain": [
       "                  pvalue\n",
       "const       8.772734e-03\n",
       "ch_inv      3.610245e-01\n",
       "ch_cs       3.980055e-02\n",
       "ch_emp      1.959284e-04\n",
       "oplease     6.839848e-05\n",
       "issue       2.158107e-10\n",
       "ret         1.357181e-02\n",
       "ind1        7.965258e-01\n",
       "ind2        1.987462e-03\n",
       "ind3        5.579976e-01\n",
       "ind4        6.640359e-01\n",
       "ind5        2.981275e-05\n",
       "ind6        6.324402e-03\n",
       "ind7        8.532567e-02\n",
       "ind8        7.895519e-01\n",
       "ind9        7.176873e-14\n",
       "ind10       4.515469e-01\n",
       "ind11       2.652944e-03\n",
       "ind12       1.460538e-14\n",
       "ind13       5.777620e-07\n",
       "ind14       1.002668e-09\n",
       "fyear_2001  1.577165e-28\n",
       "fyear_2002  9.655677e-34\n",
       "fyear_2003  8.269085e-31\n",
       "fyear_2004  3.789503e-25\n",
       "fyear_2005  6.793068e-10\n",
       "fyear_2006  3.496170e-01\n",
       "fyear_2007  3.101281e-01\n",
       "fyear_2008  1.092103e-01\n",
       "fyear_2009  9.066565e-01\n",
       "fyear_2010  8.504767e-01"
      ]
     },
     "execution_count": 13,
     "metadata": {},
     "output_type": "execute_result"
    }
   ],
   "source": [
    "p_value = pd.DataFrame({'pvalue': model.pvalues,})\n",
    "p_value"
   ]
  },
  {
   "cell_type": "code",
   "execution_count": 14,
   "id": "95462b2c",
   "metadata": {},
   "outputs": [
    {
     "name": "stdout",
     "output_type": "stream",
     "text": [
      "Variables significant at 1% :  ['ch_emp', 'oplease', 'issue', 'ind2', 'ind5', 'ind6', 'ind9', 'ind11', 'ind12', 'ind13', 'ind14', 'fyear_2001', 'fyear_2002', 'fyear_2003', 'fyear_2004', 'fyear_2005']\n",
      "Variables significant at 5% :  ['ch_cs', 'ret']\n",
      "Variables significant at 10% :  ['ind7']\n"
     ]
    }
   ],
   "source": [
    "P1_cols = p_value[p_value.pvalue < 0.01].drop('const').index.tolist()\n",
    "P2_cols = p_value[p_value.pvalue < 0.05].drop('const').drop(P1_cols).index.tolist()\n",
    "P3_cols = p_value[p_value.pvalue < 0.10].drop('const').drop(P1_cols).drop(P2_cols).index.tolist()\n",
    "\n",
    "print('Variables significant at 1% : ',P1_cols) \n",
    "print('Variables significant at 5% : ',P2_cols) \n",
    "print('Variables significant at 10% : ',P3_cols) "
   ]
  },
  {
   "cell_type": "markdown",
   "id": "c7d1ed71",
   "metadata": {},
   "source": [
    "By looking at the p-value, the rules below had been used to determine the variables significant level. \n",
    "\n",
    "1. p<0.01: “The estimated coefficient is significant at 1% level\"\n",
    "2. p<0.05: “The estimated coefficient is significant at 5% level\"\n",
    "3. p<0.10: “The estimated coefficient is significant at 10% level\"\n",
    "4. p>0.10: \"The estimated coefficient is not statistically significant as it is not statistically different from 0\"\n",
    "\n",
    "\n",
    "Variables significant at 1% = ch_emp,oplease,issue,ind2,ind5,ind6,ind9,ind11,ind12,ind13,ind14,fyear_2001,fyear_2003, fyear_2004,fyear_2005\n",
    "\n",
    "Variables significant at 5% = ch_cs, ret\n",
    "\n",
    "Variables significant at 10% = ind7\n"
   ]
  },
  {
   "cell_type": "markdown",
   "id": "8a9f18ba",
   "metadata": {},
   "source": [
    "### f) Interpret the meaning of estimated coefficients "
   ]
  },
  {
   "cell_type": "markdown",
   "id": "a7777e80",
   "metadata": {},
   "source": [
    "1. <u> Issue </u>              \n",
    "Issue has a positive and significant impact on a firm’s likelihood of having an accounting restatement. Holding all other firm characteristics equal, a firm that had issued securities recently is 2.7% more likely to have an accounting restatement than a firm that didn’t issue securities recently.\n",
    "<br>\n",
    "\n",
    "2. <u> Ind 9 </u> \n",
    "<br>Ind 9 has a positive and significant impact on a firm’s likelihood of having an accounting restatement. Holding all other firm characteristics equal, a firm that is in industry 9 is 4.2 % more likely to have an accounting restatement than a firm that is not in industry 9.\n",
    "<br>\n",
    "\n",
    "3. <u> Fyear 2001 </u> \n",
    "<br>Fyear 2001 has a positive and significant impact on a firm’s likelihood of having an accounting restatement. Holding all other firm characteristics equal, a firm that is in financial year 2001 is 6.8 % more likely to have an accounting restatement than a firm that is not in financial year 2001.\n",
    "\n",
    "\n",
    "\n"
   ]
  },
  {
   "cell_type": "markdown",
   "id": "187065eb",
   "metadata": {},
   "source": [
    "###  g) Likelihood of having a restatement change if x-variable changes from 25th percentile to 75th percentile"
   ]
  },
  {
   "cell_type": "code",
   "execution_count": 15,
   "id": "1cbac0c0",
   "metadata": {},
   "outputs": [
    {
     "data": {
      "text/plain": [
       "count    54354.000000\n",
       "mean         0.066214\n",
       "std          0.248658\n",
       "min          0.000000\n",
       "25%          0.000000\n",
       "50%          0.000000\n",
       "75%          0.000000\n",
       "max          1.000000\n",
       "Name: restatement, dtype: float64"
      ]
     },
     "execution_count": 15,
     "metadata": {},
     "output_type": "execute_result"
    }
   ],
   "source": [
    "df_data_final['restatement'].describe() "
   ]
  },
  {
   "cell_type": "markdown",
   "id": "a898eb9d",
   "metadata": {},
   "source": [
    "$\\;\\;\\;\\;\\;$**i. Ch_cs**"
   ]
  },
  {
   "cell_type": "code",
   "execution_count": 16,
   "id": "38ac5b7b",
   "metadata": {},
   "outputs": [
    {
     "data": {
      "text/plain": [
       "count    54354.000000\n",
       "mean         0.046719\n",
       "std          1.256693\n",
       "min         -6.692308\n",
       "25%         -0.088095\n",
       "50%          0.051227\n",
       "75%          0.203228\n",
       "max          6.757576\n",
       "Name: ch_cs, dtype: float64"
      ]
     },
     "execution_count": 16,
     "metadata": {},
     "output_type": "execute_result"
    }
   ],
   "source": [
    "df_data_final['ch_cs'].describe() "
   ]
  },
  {
   "cell_type": "code",
   "execution_count": 17,
   "id": "50af9d85",
   "metadata": {},
   "outputs": [
    {
     "data": {
      "text/plain": [
       "0.000582646"
      ]
     },
     "execution_count": 17,
     "metadata": {},
     "output_type": "execute_result"
    }
   ],
   "source": [
    "(0.203228--0.088095) * 0.0020"
   ]
  },
  {
   "cell_type": "code",
   "execution_count": 18,
   "id": "80e04d65",
   "metadata": {},
   "outputs": [
    {
     "data": {
      "text/plain": [
       "0.008571428571428572"
      ]
     },
     "execution_count": 18,
     "metadata": {},
     "output_type": "execute_result"
    }
   ],
   "source": [
    "0.06/7.0"
   ]
  },
  {
   "cell_type": "markdown",
   "id": "6a35eb6f",
   "metadata": {},
   "source": [
    "Interpretation: A 0.9% increase in the mean probability if a firm's change in account receivables goes from 25th percentile to 75th percentile.\n"
   ]
  },
  {
   "cell_type": "markdown",
   "id": "89c808ce",
   "metadata": {},
   "source": [
    "$\\;\\;\\;\\;\\;$**ii. Ret**"
   ]
  },
  {
   "cell_type": "code",
   "execution_count": 19,
   "id": "d71fc284",
   "metadata": {},
   "outputs": [
    {
     "data": {
      "text/plain": [
       "count    54354.000000\n",
       "mean         0.067745\n",
       "std          0.567142\n",
       "min         -0.861493\n",
       "25%         -0.255567\n",
       "50%         -0.023484\n",
       "75%          0.246067\n",
       "max          2.836037\n",
       "Name: ret, dtype: float64"
      ]
     },
     "execution_count": 19,
     "metadata": {},
     "output_type": "execute_result"
    }
   ],
   "source": [
    "df_data_final['ret'].describe() "
   ]
  },
  {
   "cell_type": "code",
   "execution_count": 20,
   "id": "6b7c1f6d",
   "metadata": {},
   "outputs": [
    {
     "data": {
      "text/plain": [
       "-0.002758987"
      ]
     },
     "execution_count": 20,
     "metadata": {},
     "output_type": "execute_result"
    }
   ],
   "source": [
    "(0.246067--0.255567) * -0.0055"
   ]
  },
  {
   "cell_type": "code",
   "execution_count": 21,
   "id": "fa70d2c7",
   "metadata": {},
   "outputs": [
    {
     "data": {
      "text/plain": [
       "-0.04"
      ]
     },
     "execution_count": 21,
     "metadata": {},
     "output_type": "execute_result"
    }
   ],
   "source": [
    "-0.28/7.0"
   ]
  },
  {
   "cell_type": "markdown",
   "id": "ad8218d1",
   "metadata": {},
   "source": [
    "Interpretation: A 4% decrease in the mean probability if a firm's stock return in the past year goes from 25th percentile to 75th percentile."
   ]
  },
  {
   "cell_type": "markdown",
   "id": "0233d02e",
   "metadata": {},
   "source": [
    "$\\;\\;\\;\\;\\;$**iii. Ch_emp**"
   ]
  },
  {
   "cell_type": "code",
   "execution_count": 22,
   "id": "e06fca8b",
   "metadata": {},
   "outputs": [
    {
     "data": {
      "text/plain": [
       "count    54354.000000\n",
       "mean        -0.041584\n",
       "std          0.277849\n",
       "min         -1.371319\n",
       "25%         -0.118597\n",
       "50%         -0.024756\n",
       "75%          0.058048\n",
       "max          0.896901\n",
       "Name: ch_emp, dtype: float64"
      ]
     },
     "execution_count": 22,
     "metadata": {},
     "output_type": "execute_result"
    }
   ],
   "source": [
    "df_data_final['ch_emp'].describe() "
   ]
  },
  {
   "cell_type": "code",
   "execution_count": 23,
   "id": "d1259eaf",
   "metadata": {},
   "outputs": [
    {
     "data": {
      "text/plain": [
       "-0.0029676359999999996"
      ]
     },
     "execution_count": 23,
     "metadata": {},
     "output_type": "execute_result"
    }
   ],
   "source": [
    "(0.058048--0.118597) * -0.0168"
   ]
  },
  {
   "cell_type": "code",
   "execution_count": 24,
   "id": "d6baeb27",
   "metadata": {},
   "outputs": [
    {
     "data": {
      "text/plain": [
       "-0.04285714285714286"
      ]
     },
     "execution_count": 24,
     "metadata": {},
     "output_type": "execute_result"
    }
   ],
   "source": [
    "-0.30/7.0"
   ]
  },
  {
   "cell_type": "markdown",
   "id": "4acc6460",
   "metadata": {},
   "source": [
    "Interpretation: A 4.3% decrease in the mean probability if a firm's change in employees goes from 25th percentile to 75th percentile."
   ]
  },
  {
   "cell_type": "markdown",
   "id": "8a620b49",
   "metadata": {},
   "source": [
    "$\\;\\;\\;\\;\\;$**iv. Oplease**"
   ]
  },
  {
   "cell_type": "code",
   "execution_count": 25,
   "id": "fb59ac73",
   "metadata": {},
   "outputs": [
    {
     "data": {
      "text/plain": [
       "count    54354.000000\n",
       "mean         0.002807\n",
       "std          0.025175\n",
       "min         -0.089858\n",
       "25%         -0.002301\n",
       "50%          0.000000\n",
       "75%          0.004588\n",
       "max          0.124105\n",
       "Name: oplease, dtype: float64"
      ]
     },
     "execution_count": 25,
     "metadata": {},
     "output_type": "execute_result"
    }
   ],
   "source": [
    "df_data_final['oplease'].describe() "
   ]
  },
  {
   "cell_type": "code",
   "execution_count": 26,
   "id": "8abed680",
   "metadata": {},
   "outputs": [
    {
     "data": {
      "text/plain": [
       "0.0013440439"
      ]
     },
     "execution_count": 26,
     "metadata": {},
     "output_type": "execute_result"
    }
   ],
   "source": [
    "(0.004588--0.002301) * 0.1951"
   ]
  },
  {
   "cell_type": "code",
   "execution_count": 27,
   "id": "e3687e48",
   "metadata": {},
   "outputs": [
    {
     "data": {
      "text/plain": [
       "0.018571428571428572"
      ]
     },
     "execution_count": 27,
     "metadata": {},
     "output_type": "execute_result"
    }
   ],
   "source": [
    "0.13/7.0"
   ]
  },
  {
   "cell_type": "markdown",
   "id": "8c87d7b2",
   "metadata": {},
   "source": [
    "Interpretation: A 1.9% increase in the mean probability if a firm's present value of operating lease goes from 25th percentile to 75th percentile."
   ]
  },
  {
   "cell_type": "markdown",
   "id": "43864030",
   "metadata": {},
   "source": [
    "# Question 3"
   ]
  },
  {
   "cell_type": "markdown",
   "id": "c92f5137",
   "metadata": {},
   "source": [
    "### a) Predict likelihood of having a restatement"
   ]
  },
  {
   "cell_type": "markdown",
   "id": "4641075c",
   "metadata": {},
   "source": [
    "$\\;\\;\\;\\;\\;$**i. Training Sample**"
   ]
  },
  {
   "cell_type": "code",
   "execution_count": 28,
   "id": "7608ea4d",
   "metadata": {},
   "outputs": [
    {
     "data": {
      "text/plain": [
       "0        0.166496\n",
       "1        0.174506\n",
       "2        0.158339\n",
       "3        0.129334\n",
       "4        0.128767\n",
       "           ...   \n",
       "54314    0.060099\n",
       "54318    0.051090\n",
       "54322    0.123524\n",
       "54323    0.053851\n",
       "54339    0.017358\n",
       "Length: 43031, dtype: float64"
      ]
     },
     "execution_count": 28,
     "metadata": {},
     "output_type": "execute_result"
    }
   ],
   "source": [
    "y_pred_train_ols = model.predict(x)\n",
    "y_pred_train_ols "
   ]
  },
  {
   "cell_type": "code",
   "execution_count": 29,
   "id": "b811bd98",
   "metadata": {},
   "outputs": [
    {
     "data": {
      "text/plain": [
       "count    43031.000000\n",
       "mean         0.073691\n",
       "std          0.045416\n",
       "min         -0.045056\n",
       "25%          0.042059\n",
       "50%          0.073403\n",
       "75%          0.106211\n",
       "max          0.205144\n",
       "dtype: float64"
      ]
     },
     "execution_count": 29,
     "metadata": {},
     "output_type": "execute_result"
    }
   ],
   "source": [
    "y_pred_train_ols.describe()"
   ]
  },
  {
   "cell_type": "markdown",
   "id": "9ace7b29",
   "metadata": {},
   "source": [
    "$\\;\\;\\;\\;\\;$**ii. Test Sample**"
   ]
  },
  {
   "cell_type": "code",
   "execution_count": 30,
   "id": "1944233b",
   "metadata": {},
   "outputs": [
    {
     "data": {
      "text/plain": [
       "11       0.092499\n",
       "12       0.096797\n",
       "13       0.088759\n",
       "42       0.045719\n",
       "54       0.048585\n",
       "           ...   \n",
       "54349    0.078367\n",
       "54350    0.051792\n",
       "54351    0.062912\n",
       "54352    0.040708\n",
       "54353    0.043741\n",
       "Length: 11323, dtype: float64"
      ]
     },
     "execution_count": 30,
     "metadata": {},
     "output_type": "execute_result"
    }
   ],
   "source": [
    "cond_1 = (df_data_final['test'] == 1)\n",
    "X_test = df_data_final.loc[cond_1, X_columns]  \n",
    "X_test = sm.add_constant(X_test)\n",
    "y_pred_test_ols = model.predict(X_test)\n",
    "y_pred_test_ols"
   ]
  },
  {
   "cell_type": "code",
   "execution_count": 31,
   "id": "d5028545",
   "metadata": {},
   "outputs": [
    {
     "data": {
      "text/plain": [
       "count    11323.000000\n",
       "mean         0.049505\n",
       "std          0.031624\n",
       "min         -0.041158\n",
       "25%          0.020890\n",
       "50%          0.047972\n",
       "75%          0.077004\n",
       "max          0.139045\n",
       "dtype: float64"
      ]
     },
     "execution_count": 31,
     "metadata": {},
     "output_type": "execute_result"
    }
   ],
   "source": [
    "y_pred_test_ols.describe()"
   ]
  },
  {
   "cell_type": "markdown",
   "id": "a1153463",
   "metadata": {},
   "source": [
    "$\\;\\;\\;\\;\\;$**iii. Whole Sample**"
   ]
  },
  {
   "cell_type": "code",
   "execution_count": 32,
   "id": "404a861e",
   "metadata": {},
   "outputs": [
    {
     "data": {
      "text/plain": [
       "0        0.166496\n",
       "1        0.174506\n",
       "2        0.158339\n",
       "3        0.129334\n",
       "4        0.128767\n",
       "           ...   \n",
       "54349    0.078367\n",
       "54350    0.051792\n",
       "54351    0.062912\n",
       "54352    0.040708\n",
       "54353    0.043741\n",
       "Length: 54354, dtype: float64"
      ]
     },
     "execution_count": 32,
     "metadata": {},
     "output_type": "execute_result"
    }
   ],
   "source": [
    "X_all = df_data_final[X_columns]  \n",
    "X_all = sm.add_constant(X_all)\n",
    "y_pred_all_ols = model.predict(X_all)\n",
    "y_pred_all_ols"
   ]
  },
  {
   "cell_type": "code",
   "execution_count": 33,
   "id": "cfb913f4",
   "metadata": {},
   "outputs": [
    {
     "data": {
      "text/plain": [
       "count    54354.000000\n",
       "mean         0.068653\n",
       "std          0.044019\n",
       "min         -0.045056\n",
       "25%          0.039017\n",
       "50%          0.065061\n",
       "75%          0.095611\n",
       "max          0.205144\n",
       "dtype: float64"
      ]
     },
     "execution_count": 33,
     "metadata": {},
     "output_type": "execute_result"
    }
   ],
   "source": [
    "y_pred_all_ols.describe() "
   ]
  },
  {
   "cell_type": "markdown",
   "id": "6809f607",
   "metadata": {},
   "source": [
    "### b) Number of obs with predicted probability <0 "
   ]
  },
  {
   "cell_type": "markdown",
   "id": "a7042527",
   "metadata": {},
   "source": [
    "$\\;\\;\\;\\;\\;$**i. Training Sample**"
   ]
  },
  {
   "cell_type": "code",
   "execution_count": 34,
   "id": "27e726c4",
   "metadata": {},
   "outputs": [
    {
     "data": {
      "text/plain": [
       "count    1203.000000\n",
       "mean       -0.011470\n",
       "std         0.008612\n",
       "min        -0.045056\n",
       "25%        -0.016418\n",
       "50%        -0.010528\n",
       "75%        -0.004155\n",
       "max        -0.000013\n",
       "dtype: float64"
      ]
     },
     "execution_count": 34,
     "metadata": {},
     "output_type": "execute_result"
    }
   ],
   "source": [
    "y_pred_train_ols[y_pred_train_ols<0].describe()"
   ]
  },
  {
   "cell_type": "markdown",
   "id": "b91f1b9b",
   "metadata": {},
   "source": [
    "$\\;\\;\\;\\;\\;$**ii. Test Sample**"
   ]
  },
  {
   "cell_type": "code",
   "execution_count": 35,
   "id": "4ab07c8e",
   "metadata": {},
   "outputs": [
    {
     "data": {
      "text/plain": [
       "count    449.000000\n",
       "mean      -0.013623\n",
       "std        0.006832\n",
       "min       -0.041158\n",
       "25%       -0.017044\n",
       "50%       -0.014113\n",
       "75%       -0.010571\n",
       "max       -0.000187\n",
       "dtype: float64"
      ]
     },
     "execution_count": 35,
     "metadata": {},
     "output_type": "execute_result"
    }
   ],
   "source": [
    "y_pred_test_ols[y_pred_test_ols<0].describe() "
   ]
  },
  {
   "cell_type": "markdown",
   "id": "1b372fab",
   "metadata": {},
   "source": [
    "# Logit Regression"
   ]
  },
  {
   "cell_type": "code",
   "execution_count": 36,
   "id": "b5357087",
   "metadata": {},
   "outputs": [
    {
     "name": "stdout",
     "output_type": "stream",
     "text": [
      "Optimization terminated successfully.\n",
      "         Current function value: 0.247820\n",
      "         Iterations 7\n"
     ]
    },
    {
     "data": {
      "text/html": [
       "<table class=\"simpletable\">\n",
       "<caption>Logit Regression Results</caption>\n",
       "<tr>\n",
       "  <th>Dep. Variable:</th>      <td>restatement</td>   <th>  No. Observations:  </th>   <td> 43031</td>  \n",
       "</tr>\n",
       "<tr>\n",
       "  <th>Model:</th>                 <td>Logit</td>      <th>  Df Residuals:      </th>   <td> 43000</td>  \n",
       "</tr>\n",
       "<tr>\n",
       "  <th>Method:</th>                 <td>MLE</td>       <th>  Df Model:          </th>   <td>    30</td>  \n",
       "</tr>\n",
       "<tr>\n",
       "  <th>Date:</th>            <td>Fri, 30 Sep 2022</td> <th>  Pseudo R-squ.:     </th>   <td>0.05802</td> \n",
       "</tr>\n",
       "<tr>\n",
       "  <th>Time:</th>                <td>19:52:02</td>     <th>  Log-Likelihood:    </th>  <td> -10664.</td> \n",
       "</tr>\n",
       "<tr>\n",
       "  <th>converged:</th>             <td>True</td>       <th>  LL-Null:           </th>  <td> -11321.</td> \n",
       "</tr>\n",
       "<tr>\n",
       "  <th>Covariance Type:</th>     <td>nonrobust</td>    <th>  LLR p-value:       </th> <td>1.858e-257</td>\n",
       "</tr>\n",
       "</table>\n",
       "<table class=\"simpletable\">\n",
       "<tr>\n",
       "       <td></td>         <th>coef</th>     <th>std err</th>      <th>z</th>      <th>P>|z|</th>  <th>[0.025</th>    <th>0.975]</th>  \n",
       "</tr>\n",
       "<tr>\n",
       "  <th>const</th>      <td>   -3.4529</td> <td>    0.126</td> <td>  -27.352</td> <td> 0.000</td> <td>   -3.700</td> <td>   -3.206</td>\n",
       "</tr>\n",
       "<tr>\n",
       "  <th>ch_inv</th>     <td>    0.3900</td> <td>    0.517</td> <td>    0.755</td> <td> 0.450</td> <td>   -0.623</td> <td>    1.403</td>\n",
       "</tr>\n",
       "<tr>\n",
       "  <th>ch_cs</th>      <td>    0.0455</td> <td>    0.018</td> <td>    2.505</td> <td> 0.012</td> <td>    0.010</td> <td>    0.081</td>\n",
       "</tr>\n",
       "<tr>\n",
       "  <th>ch_emp</th>     <td>   -0.2347</td> <td>    0.064</td> <td>   -3.673</td> <td> 0.000</td> <td>   -0.360</td> <td>   -0.109</td>\n",
       "</tr>\n",
       "<tr>\n",
       "  <th>oplease</th>    <td>    2.0557</td> <td>    0.640</td> <td>    3.214</td> <td> 0.001</td> <td>    0.802</td> <td>    3.309</td>\n",
       "</tr>\n",
       "<tr>\n",
       "  <th>issue</th>      <td>    0.4154</td> <td>    0.079</td> <td>    5.273</td> <td> 0.000</td> <td>    0.261</td> <td>    0.570</td>\n",
       "</tr>\n",
       "<tr>\n",
       "  <th>ret</th>        <td>   -0.0707</td> <td>    0.032</td> <td>   -2.203</td> <td> 0.028</td> <td>   -0.134</td> <td>   -0.008</td>\n",
       "</tr>\n",
       "<tr>\n",
       "  <th>ind1</th>       <td>   -0.0845</td> <td>    0.431</td> <td>   -0.196</td> <td> 0.844</td> <td>   -0.928</td> <td>    0.759</td>\n",
       "</tr>\n",
       "<tr>\n",
       "  <th>ind2</th>       <td>    0.3886</td> <td>    0.123</td> <td>    3.169</td> <td> 0.002</td> <td>    0.148</td> <td>    0.629</td>\n",
       "</tr>\n",
       "<tr>\n",
       "  <th>ind3</th>       <td>    0.0996</td> <td>    0.146</td> <td>    0.685</td> <td> 0.494</td> <td>   -0.186</td> <td>    0.385</td>\n",
       "</tr>\n",
       "<tr>\n",
       "  <th>ind4</th>       <td>    0.1073</td> <td>    0.191</td> <td>    0.560</td> <td> 0.575</td> <td>   -0.268</td> <td>    0.483</td>\n",
       "</tr>\n",
       "<tr>\n",
       "  <th>ind5</th>       <td>   -0.8578</td> <td>    0.194</td> <td>   -4.429</td> <td> 0.000</td> <td>   -1.237</td> <td>   -0.478</td>\n",
       "</tr>\n",
       "<tr>\n",
       "  <th>ind6</th>       <td>   -0.4878</td> <td>    0.174</td> <td>   -2.810</td> <td> 0.005</td> <td>   -0.828</td> <td>   -0.148</td>\n",
       "</tr>\n",
       "<tr>\n",
       "  <th>ind7</th>       <td>    0.2053</td> <td>    0.115</td> <td>    1.790</td> <td> 0.073</td> <td>   -0.019</td> <td>    0.430</td>\n",
       "</tr>\n",
       "<tr>\n",
       "  <th>ind8</th>       <td>   -0.0129</td> <td>    0.084</td> <td>   -0.155</td> <td> 0.877</td> <td>   -0.177</td> <td>    0.151</td>\n",
       "</tr>\n",
       "<tr>\n",
       "  <th>ind9</th>       <td>    0.5377</td> <td>    0.082</td> <td>    6.568</td> <td> 0.000</td> <td>    0.377</td> <td>    0.698</td>\n",
       "</tr>\n",
       "<tr>\n",
       "  <th>ind10</th>      <td>    0.0881</td> <td>    0.108</td> <td>    0.815</td> <td> 0.415</td> <td>   -0.124</td> <td>    0.300</td>\n",
       "</tr>\n",
       "<tr>\n",
       "  <th>ind11</th>      <td>   -0.4458</td> <td>    0.147</td> <td>   -3.036</td> <td> 0.002</td> <td>   -0.734</td> <td>   -0.158</td>\n",
       "</tr>\n",
       "<tr>\n",
       "  <th>ind12</th>      <td>    0.6033</td> <td>    0.089</td> <td>    6.757</td> <td> 0.000</td> <td>    0.428</td> <td>    0.778</td>\n",
       "</tr>\n",
       "<tr>\n",
       "  <th>ind13</th>      <td>    0.4207</td> <td>    0.090</td> <td>    4.691</td> <td> 0.000</td> <td>    0.245</td> <td>    0.596</td>\n",
       "</tr>\n",
       "<tr>\n",
       "  <th>ind14</th>      <td>   -0.7372</td> <td>    0.095</td> <td>   -7.761</td> <td> 0.000</td> <td>   -0.923</td> <td>   -0.551</td>\n",
       "</tr>\n",
       "<tr>\n",
       "  <th>fyear_2001</th> <td>    0.9446</td> <td>    0.093</td> <td>   10.135</td> <td> 0.000</td> <td>    0.762</td> <td>    1.127</td>\n",
       "</tr>\n",
       "<tr>\n",
       "  <th>fyear_2002</th> <td>    0.9990</td> <td>    0.092</td> <td>   10.901</td> <td> 0.000</td> <td>    0.819</td> <td>    1.179</td>\n",
       "</tr>\n",
       "<tr>\n",
       "  <th>fyear_2003</th> <td>    0.9716</td> <td>    0.093</td> <td>   10.470</td> <td> 0.000</td> <td>    0.790</td> <td>    1.153</td>\n",
       "</tr>\n",
       "<tr>\n",
       "  <th>fyear_2004</th> <td>    0.8859</td> <td>    0.091</td> <td>    9.688</td> <td> 0.000</td> <td>    0.707</td> <td>    1.065</td>\n",
       "</tr>\n",
       "<tr>\n",
       "  <th>fyear_2005</th> <td>    0.5974</td> <td>    0.094</td> <td>    6.351</td> <td> 0.000</td> <td>    0.413</td> <td>    0.782</td>\n",
       "</tr>\n",
       "<tr>\n",
       "  <th>fyear_2006</th> <td>    0.1239</td> <td>    0.101</td> <td>    1.230</td> <td> 0.219</td> <td>   -0.074</td> <td>    0.321</td>\n",
       "</tr>\n",
       "<tr>\n",
       "  <th>fyear_2007</th> <td>   -0.1035</td> <td>    0.104</td> <td>   -0.995</td> <td> 0.320</td> <td>   -0.307</td> <td>    0.100</td>\n",
       "</tr>\n",
       "<tr>\n",
       "  <th>fyear_2008</th> <td>   -0.2216</td> <td>    0.108</td> <td>   -2.055</td> <td> 0.040</td> <td>   -0.433</td> <td>   -0.010</td>\n",
       "</tr>\n",
       "<tr>\n",
       "  <th>fyear_2009</th> <td>   -0.0359</td> <td>    0.106</td> <td>   -0.338</td> <td> 0.735</td> <td>   -0.244</td> <td>    0.172</td>\n",
       "</tr>\n",
       "<tr>\n",
       "  <th>fyear_2010</th> <td>    0.0185</td> <td>    0.104</td> <td>    0.178</td> <td> 0.859</td> <td>   -0.186</td> <td>    0.223</td>\n",
       "</tr>\n",
       "</table>"
      ],
      "text/plain": [
       "<class 'statsmodels.iolib.summary.Summary'>\n",
       "\"\"\"\n",
       "                           Logit Regression Results                           \n",
       "==============================================================================\n",
       "Dep. Variable:            restatement   No. Observations:                43031\n",
       "Model:                          Logit   Df Residuals:                    43000\n",
       "Method:                           MLE   Df Model:                           30\n",
       "Date:                Fri, 30 Sep 2022   Pseudo R-squ.:                 0.05802\n",
       "Time:                        19:52:02   Log-Likelihood:                -10664.\n",
       "converged:                       True   LL-Null:                       -11321.\n",
       "Covariance Type:            nonrobust   LLR p-value:                1.858e-257\n",
       "==============================================================================\n",
       "                 coef    std err          z      P>|z|      [0.025      0.975]\n",
       "------------------------------------------------------------------------------\n",
       "const         -3.4529      0.126    -27.352      0.000      -3.700      -3.206\n",
       "ch_inv         0.3900      0.517      0.755      0.450      -0.623       1.403\n",
       "ch_cs          0.0455      0.018      2.505      0.012       0.010       0.081\n",
       "ch_emp        -0.2347      0.064     -3.673      0.000      -0.360      -0.109\n",
       "oplease        2.0557      0.640      3.214      0.001       0.802       3.309\n",
       "issue          0.4154      0.079      5.273      0.000       0.261       0.570\n",
       "ret           -0.0707      0.032     -2.203      0.028      -0.134      -0.008\n",
       "ind1          -0.0845      0.431     -0.196      0.844      -0.928       0.759\n",
       "ind2           0.3886      0.123      3.169      0.002       0.148       0.629\n",
       "ind3           0.0996      0.146      0.685      0.494      -0.186       0.385\n",
       "ind4           0.1073      0.191      0.560      0.575      -0.268       0.483\n",
       "ind5          -0.8578      0.194     -4.429      0.000      -1.237      -0.478\n",
       "ind6          -0.4878      0.174     -2.810      0.005      -0.828      -0.148\n",
       "ind7           0.2053      0.115      1.790      0.073      -0.019       0.430\n",
       "ind8          -0.0129      0.084     -0.155      0.877      -0.177       0.151\n",
       "ind9           0.5377      0.082      6.568      0.000       0.377       0.698\n",
       "ind10          0.0881      0.108      0.815      0.415      -0.124       0.300\n",
       "ind11         -0.4458      0.147     -3.036      0.002      -0.734      -0.158\n",
       "ind12          0.6033      0.089      6.757      0.000       0.428       0.778\n",
       "ind13          0.4207      0.090      4.691      0.000       0.245       0.596\n",
       "ind14         -0.7372      0.095     -7.761      0.000      -0.923      -0.551\n",
       "fyear_2001     0.9446      0.093     10.135      0.000       0.762       1.127\n",
       "fyear_2002     0.9990      0.092     10.901      0.000       0.819       1.179\n",
       "fyear_2003     0.9716      0.093     10.470      0.000       0.790       1.153\n",
       "fyear_2004     0.8859      0.091      9.688      0.000       0.707       1.065\n",
       "fyear_2005     0.5974      0.094      6.351      0.000       0.413       0.782\n",
       "fyear_2006     0.1239      0.101      1.230      0.219      -0.074       0.321\n",
       "fyear_2007    -0.1035      0.104     -0.995      0.320      -0.307       0.100\n",
       "fyear_2008    -0.2216      0.108     -2.055      0.040      -0.433      -0.010\n",
       "fyear_2009    -0.0359      0.106     -0.338      0.735      -0.244       0.172\n",
       "fyear_2010     0.0185      0.104      0.178      0.859      -0.186       0.223\n",
       "==============================================================================\n",
       "\"\"\""
      ]
     },
     "execution_count": 36,
     "metadata": {},
     "output_type": "execute_result"
    }
   ],
   "source": [
    "model_logit = sm.Logit(y,x).fit()\n",
    "model_logit.summary()"
   ]
  },
  {
   "cell_type": "markdown",
   "id": "6913efa0",
   "metadata": {},
   "source": [
    "### Psuedo R-square "
   ]
  },
  {
   "cell_type": "markdown",
   "id": "6c40efdc",
   "metadata": {},
   "source": [
    "Pseudo R-square = 0.05802"
   ]
  },
  {
   "cell_type": "code",
   "execution_count": 37,
   "id": "41c53a5d",
   "metadata": {},
   "outputs": [
    {
     "name": "stdout",
     "output_type": "stream",
     "text": [
      "Pseudo R-square = 0.05803374260224359\n"
     ]
    }
   ],
   "source": [
    "PR_2 = 1- (-10664)/(-11321) \n",
    "print('Pseudo R-square =', PR_2)"
   ]
  },
  {
   "cell_type": "markdown",
   "id": "98071c24",
   "metadata": {},
   "source": [
    "### Predict likelihood of having a restatement"
   ]
  },
  {
   "cell_type": "markdown",
   "id": "f3eaeb57",
   "metadata": {},
   "source": [
    "$\\;\\;\\;\\;\\;$**i. Training Sample**"
   ]
  },
  {
   "cell_type": "code",
   "execution_count": 38,
   "id": "266dcd95",
   "metadata": {},
   "outputs": [
    {
     "data": {
      "text/plain": [
       "0        0.190109\n",
       "1        0.203539\n",
       "2        0.175067\n",
       "3        0.121617\n",
       "4        0.135492\n",
       "           ...   \n",
       "54314    0.057192\n",
       "54318    0.049368\n",
       "54322    0.116876\n",
       "54323    0.051630\n",
       "54339    0.027862\n",
       "Length: 43031, dtype: float64"
      ]
     },
     "execution_count": 38,
     "metadata": {},
     "output_type": "execute_result"
    }
   ],
   "source": [
    "y_pred_train_logit = model_logit.predict(x)\n",
    "y_pred_train_logit "
   ]
  },
  {
   "cell_type": "code",
   "execution_count": 39,
   "id": "d1939e5e",
   "metadata": {},
   "outputs": [
    {
     "data": {
      "text/plain": [
       "count    43031.000000\n",
       "mean         0.073691\n",
       "std          0.047212\n",
       "min          0.008739\n",
       "25%          0.039402\n",
       "50%          0.059316\n",
       "75%          0.101425\n",
       "max          0.284945\n",
       "dtype: float64"
      ]
     },
     "execution_count": 39,
     "metadata": {},
     "output_type": "execute_result"
    }
   ],
   "source": [
    "y_pred_train_logit.describe()"
   ]
  },
  {
   "cell_type": "markdown",
   "id": "16d3e674",
   "metadata": {},
   "source": [
    "$\\;\\;\\;\\;\\;$**ii. Test Sample**"
   ]
  },
  {
   "cell_type": "code",
   "execution_count": 40,
   "id": "3dda342e",
   "metadata": {},
   "outputs": [
    {
     "data": {
      "text/plain": [
       "11       0.078528\n",
       "12       0.082463\n",
       "13       0.074751\n",
       "42       0.047282\n",
       "54       0.047441\n",
       "           ...   \n",
       "54349    0.079580\n",
       "54350    0.050668\n",
       "54351    0.058691\n",
       "54352    0.043150\n",
       "54353    0.044825\n",
       "Length: 11323, dtype: float64"
      ]
     },
     "execution_count": 40,
     "metadata": {},
     "output_type": "execute_result"
    }
   ],
   "source": [
    "cond_1 = (df_data_final['test'] == 1)\n",
    "X_test = df_data_final.loc[cond_1, X_columns]  \n",
    "X_test = sm.add_constant(X_test)\n",
    "y_pred_test_logit = model_logit.predict(X_test)\n",
    "y_pred_test_logit"
   ]
  },
  {
   "cell_type": "code",
   "execution_count": 41,
   "id": "d5c3e973",
   "metadata": {},
   "outputs": [
    {
     "data": {
      "text/plain": [
       "count    11323.000000\n",
       "mean         0.049420\n",
       "std          0.021722\n",
       "min          0.009546\n",
       "25%          0.029803\n",
       "50%          0.047184\n",
       "75%          0.068313\n",
       "max          0.139200\n",
       "dtype: float64"
      ]
     },
     "execution_count": 41,
     "metadata": {},
     "output_type": "execute_result"
    }
   ],
   "source": [
    "y_pred_test_logit.describe()"
   ]
  },
  {
   "cell_type": "markdown",
   "id": "0495f91a",
   "metadata": {},
   "source": [
    "$\\;\\;\\;\\;\\;$**iii. Whole Sample**"
   ]
  },
  {
   "cell_type": "code",
   "execution_count": 42,
   "id": "67528345",
   "metadata": {},
   "outputs": [
    {
     "data": {
      "text/plain": [
       "0        0.190109\n",
       "1        0.203539\n",
       "2        0.175067\n",
       "3        0.121617\n",
       "4        0.135492\n",
       "           ...   \n",
       "54349    0.079580\n",
       "54350    0.050668\n",
       "54351    0.058691\n",
       "54352    0.043150\n",
       "54353    0.044825\n",
       "Length: 54354, dtype: float64"
      ]
     },
     "execution_count": 42,
     "metadata": {},
     "output_type": "execute_result"
    }
   ],
   "source": [
    "X_all = df_data_final[X_columns]  \n",
    "X_all = sm.add_constant(X_all)\n",
    "y_pred_all_logit = model_logit.predict(X_all)\n",
    "y_pred_all_logit"
   ]
  },
  {
   "cell_type": "code",
   "execution_count": 43,
   "id": "f4343581",
   "metadata": {},
   "outputs": [
    {
     "data": {
      "text/plain": [
       "count    54354.000000\n",
       "mean         0.068635\n",
       "std          0.044273\n",
       "min          0.008739\n",
       "25%          0.038181\n",
       "50%          0.055393\n",
       "75%          0.084050\n",
       "max          0.284945\n",
       "dtype: float64"
      ]
     },
     "execution_count": 43,
     "metadata": {},
     "output_type": "execute_result"
    }
   ],
   "source": [
    "y_pred_all_logit.describe() "
   ]
  },
  {
   "cell_type": "markdown",
   "id": "9f96c0e7",
   "metadata": {},
   "source": [
    "### Number of obs with predicted probability <0 "
   ]
  },
  {
   "cell_type": "markdown",
   "id": "8545d36e",
   "metadata": {},
   "source": [
    "$\\;\\;\\;\\;\\;$**i. Training Sample**"
   ]
  },
  {
   "cell_type": "code",
   "execution_count": 44,
   "id": "ad0b9a41",
   "metadata": {},
   "outputs": [
    {
     "data": {
      "text/plain": [
       "count    0.0\n",
       "mean     NaN\n",
       "std      NaN\n",
       "min      NaN\n",
       "25%      NaN\n",
       "50%      NaN\n",
       "75%      NaN\n",
       "max      NaN\n",
       "dtype: float64"
      ]
     },
     "execution_count": 44,
     "metadata": {},
     "output_type": "execute_result"
    }
   ],
   "source": [
    "y_pred_train_logit[y_pred_train_logit<0].describe() "
   ]
  },
  {
   "cell_type": "markdown",
   "id": "d7b8a189",
   "metadata": {},
   "source": [
    "$\\;\\;\\;\\;\\;$**ii. Test Sample**"
   ]
  },
  {
   "cell_type": "code",
   "execution_count": 45,
   "id": "ebdf86c8",
   "metadata": {},
   "outputs": [
    {
     "data": {
      "text/plain": [
       "count    0.0\n",
       "mean     NaN\n",
       "std      NaN\n",
       "min      NaN\n",
       "25%      NaN\n",
       "50%      NaN\n",
       "75%      NaN\n",
       "max      NaN\n",
       "dtype: float64"
      ]
     },
     "execution_count": 45,
     "metadata": {},
     "output_type": "execute_result"
    }
   ],
   "source": [
    "y_pred_test_logit[y_pred_test_logit<0].describe() "
   ]
  },
  {
   "cell_type": "markdown",
   "id": "b2696138",
   "metadata": {},
   "source": [
    "# Optional parts "
   ]
  },
  {
   "cell_type": "markdown",
   "id": "15260525",
   "metadata": {},
   "source": [
    "### 1. SEC on OLS predicted probabilities"
   ]
  },
  {
   "cell_type": "code",
   "execution_count": 46,
   "id": "bd400788",
   "metadata": {},
   "outputs": [],
   "source": [
    "df_data_final['y_pred_all_ols'] = y_pred_all_ols\n",
    "group_year = df_data_final.groupby(['fyear_new'])['y_pred_all_ols'].quantile(0.666).rename('pctile66_model_OLS')\n",
    "                                                     #use all?          #also 0.666?\n"
   ]
  },
  {
   "cell_type": "code",
   "execution_count": 47,
   "id": "97ff357a",
   "metadata": {},
   "outputs": [
    {
     "data": {
      "text/plain": [
       "fyear_new\n",
       "2001    0.132903\n",
       "2002    0.135896\n",
       "2003    0.134142\n",
       "2004    0.128307\n",
       "2005    0.102813\n",
       "2006    0.071640\n",
       "2007    0.061922\n",
       "2008    0.053640\n",
       "2009    0.058780\n",
       "2010    0.064525\n",
       "2011    0.063565\n",
       "2012    0.062623\n",
       "2013    0.065045\n",
       "2014    0.066265\n",
       "Name: pctile66_model_OLS, dtype: float64"
      ]
     },
     "execution_count": 47,
     "metadata": {},
     "output_type": "execute_result"
    }
   ],
   "source": [
    "group_year"
   ]
  },
  {
   "cell_type": "code",
   "execution_count": 48,
   "id": "98765bb9",
   "metadata": {},
   "outputs": [],
   "source": [
    "df_data_final = df_data_final.merge(group_year, on='fyear_new', how='left') \n",
    "df_data_final['top_third_model_OLS'] = 0 \n",
    "cond_top_third_OLS = (df_data_final['y_pred_all_ols'] >= df_data_final['pctile66_model_OLS'])\n",
    "df_data_final.loc[cond_top_third_OLS, 'top_third_model_OLS'] = 1"
   ]
  },
  {
   "cell_type": "code",
   "execution_count": 49,
   "id": "90927c9b",
   "metadata": {},
   "outputs": [],
   "source": [
    "cond_select_OLS = (df_data_final['test'] == 1) & (df_data_final['top_third_model_OLS'] == 1) & (df_data_final['restatement'] == 1)"
   ]
  },
  {
   "cell_type": "code",
   "execution_count": 50,
   "id": "d9bf155b",
   "metadata": {},
   "outputs": [
    {
     "data": {
      "text/plain": [
       "167"
      ]
     },
     "execution_count": 50,
     "metadata": {},
     "output_type": "execute_result"
    }
   ],
   "source": [
    "len(df_data_final[cond_select_OLS])"
   ]
  },
  {
   "cell_type": "code",
   "execution_count": 51,
   "id": "b9db0f7d",
   "metadata": {},
   "outputs": [
    {
     "data": {
      "text/plain": [
       "428"
      ]
     },
     "execution_count": 51,
     "metadata": {},
     "output_type": "execute_result"
    }
   ],
   "source": [
    "cond_how_many_restatement_test= (df_data_final['test'] == 1) & (df_data_final['restatement'] == 1)\n",
    "\n",
    "len(df_data_final[cond_how_many_restatement_test])"
   ]
  },
  {
   "cell_type": "markdown",
   "id": "62bbc68e",
   "metadata": {},
   "source": [
    "Interpretation: According to the OLS model, SEC can catch 167/428 restatements."
   ]
  },
  {
   "cell_type": "markdown",
   "id": "c426dc26",
   "metadata": {},
   "source": [
    "### 2. SEC on Logit predicted probabilities"
   ]
  },
  {
   "cell_type": "code",
   "execution_count": 52,
   "id": "dbb9adc4",
   "metadata": {},
   "outputs": [],
   "source": [
    "df_data_final['y_pred_all_logit'] = y_pred_all_logit\n",
    "group_year_logit = df_data_final.groupby(['fyear_new'])['y_pred_all_logit'].quantile(0.666).rename('pctile66_model_logit')                                 "
   ]
  },
  {
   "cell_type": "code",
   "execution_count": 53,
   "id": "8b94d8e8",
   "metadata": {},
   "outputs": [
    {
     "data": {
      "text/plain": [
       "fyear_new\n",
       "2001    0.138788\n",
       "2002    0.141258\n",
       "2003    0.140108\n",
       "2004    0.134865\n",
       "2005    0.105240\n",
       "2006    0.067489\n",
       "2007    0.054884\n",
       "2008    0.046147\n",
       "2009    0.052844\n",
       "2010    0.058651\n",
       "2011    0.057790\n",
       "2012    0.056950\n",
       "2013    0.058330\n",
       "2014    0.059886\n",
       "Name: pctile66_model_logit, dtype: float64"
      ]
     },
     "execution_count": 53,
     "metadata": {},
     "output_type": "execute_result"
    }
   ],
   "source": [
    "group_year_logit"
   ]
  },
  {
   "cell_type": "code",
   "execution_count": 54,
   "id": "f0ed169b",
   "metadata": {},
   "outputs": [],
   "source": [
    "df_data_final = df_data_final.merge(group_year_logit, on='fyear_new', how='left') \n",
    "df_data_final['top_third_model_logit'] = 0 \n",
    "cond_top_third_logit = (df_data_final['y_pred_all_logit'] >= df_data_final['pctile66_model_logit'])\n",
    "df_data_final.loc[cond_top_third_logit, 'top_third_model_logit'] = 1"
   ]
  },
  {
   "cell_type": "code",
   "execution_count": 55,
   "id": "0e946f8e",
   "metadata": {},
   "outputs": [],
   "source": [
    "cond_select_logit = (df_data_final['test'] == 1) & (df_data_final['top_third_model_logit'] == 1) & (df_data_final['restatement'] == 1)"
   ]
  },
  {
   "cell_type": "code",
   "execution_count": 56,
   "id": "580cdd23",
   "metadata": {},
   "outputs": [
    {
     "data": {
      "text/plain": [
       "168"
      ]
     },
     "execution_count": 56,
     "metadata": {},
     "output_type": "execute_result"
    }
   ],
   "source": [
    "len(df_data_final[cond_select_logit])"
   ]
  },
  {
   "cell_type": "code",
   "execution_count": 57,
   "id": "af3820cb",
   "metadata": {},
   "outputs": [
    {
     "data": {
      "text/plain": [
       "428"
      ]
     },
     "execution_count": 57,
     "metadata": {},
     "output_type": "execute_result"
    }
   ],
   "source": [
    "cond_how_many_restatement_test= (df_data_final['test'] == 1) & (df_data_final['restatement'] == 1)\n",
    "\n",
    "len(df_data_final[cond_how_many_restatement_test])"
   ]
  },
  {
   "cell_type": "markdown",
   "id": "a39e984f",
   "metadata": {},
   "source": [
    "Interpretation: According to the Logit model, SEC can catch 168/428 restatements."
   ]
  },
  {
   "cell_type": "markdown",
   "id": "a18b8e89",
   "metadata": {},
   "source": [
    "### 3. Include more x-variables to catch restatement\n"
   ]
  },
  {
   "cell_type": "markdown",
   "id": "6aaf6564",
   "metadata": {},
   "source": [
    "$\\;\\;\\;\\;\\;$**i. OLS**"
   ]
  },
  {
   "cell_type": "code",
   "execution_count": 58,
   "id": "7d1edeae",
   "metadata": {},
   "outputs": [
    {
     "data": {
      "text/html": [
       "<table class=\"simpletable\">\n",
       "<caption>OLS Regression Results</caption>\n",
       "<tr>\n",
       "  <th>Dep. Variable:</th>       <td>restatement</td>   <th>  R-squared:         </th> <td>   0.046</td>\n",
       "</tr>\n",
       "<tr>\n",
       "  <th>Model:</th>                   <td>OLS</td>       <th>  Adj. R-squared:    </th> <td>   0.045</td>\n",
       "</tr>\n",
       "<tr>\n",
       "  <th>Method:</th>             <td>Least Squares</td>  <th>  F-statistic:       </th> <td>   52.17</td>\n",
       "</tr>\n",
       "<tr>\n",
       "  <th>Date:</th>             <td>Fri, 30 Sep 2022</td> <th>  Prob (F-statistic):</th>  <td>  0.00</td> \n",
       "</tr>\n",
       "<tr>\n",
       "  <th>Time:</th>                 <td>19:52:17</td>     <th>  Log-Likelihood:    </th> <td> -2281.8</td>\n",
       "</tr>\n",
       "<tr>\n",
       "  <th>No. Observations:</th>      <td> 43031</td>      <th>  AIC:               </th> <td>   4646.</td>\n",
       "</tr>\n",
       "<tr>\n",
       "  <th>Df Residuals:</th>          <td> 42990</td>      <th>  BIC:               </th> <td>   5001.</td>\n",
       "</tr>\n",
       "<tr>\n",
       "  <th>Df Model:</th>              <td>    40</td>      <th>                     </th>     <td> </td>   \n",
       "</tr>\n",
       "<tr>\n",
       "  <th>Covariance Type:</th>      <td>nonrobust</td>    <th>                     </th>     <td> </td>   \n",
       "</tr>\n",
       "</table>\n",
       "<table class=\"simpletable\">\n",
       "<tr>\n",
       "       <td></td>          <th>coef</th>     <th>std err</th>      <th>t</th>      <th>P>|t|</th>  <th>[0.025</th>    <th>0.975]</th>  \n",
       "</tr>\n",
       "<tr>\n",
       "  <th>const</th>       <td>    0.0409</td> <td>    0.007</td> <td>    5.996</td> <td> 0.000</td> <td>    0.028</td> <td>    0.054</td>\n",
       "</tr>\n",
       "<tr>\n",
       "  <th>age</th>         <td>   -0.0003</td> <td> 9.24e-05</td> <td>   -3.556</td> <td> 0.000</td> <td>   -0.001</td> <td>   -0.000</td>\n",
       "</tr>\n",
       "<tr>\n",
       "  <th>auopic</th>      <td>    0.1817</td> <td>    0.007</td> <td>   24.910</td> <td> 0.000</td> <td>    0.167</td> <td>    0.196</td>\n",
       "</tr>\n",
       "<tr>\n",
       "  <th>spread</th>      <td>   -0.1998</td> <td>    0.084</td> <td>   -2.386</td> <td> 0.017</td> <td>   -0.364</td> <td>   -0.036</td>\n",
       "</tr>\n",
       "<tr>\n",
       "  <th>beat</th>        <td>   -0.0041</td> <td>    0.003</td> <td>   -1.538</td> <td> 0.124</td> <td>   -0.009</td> <td>    0.001</td>\n",
       "</tr>\n",
       "<tr>\n",
       "  <th>IG</th>          <td>   -0.0210</td> <td>    0.004</td> <td>   -5.235</td> <td> 0.000</td> <td>   -0.029</td> <td>   -0.013</td>\n",
       "</tr>\n",
       "<tr>\n",
       "  <th>short</th>       <td>    0.1499</td> <td>    0.031</td> <td>    4.893</td> <td> 0.000</td> <td>    0.090</td> <td>    0.210</td>\n",
       "</tr>\n",
       "<tr>\n",
       "  <th>dadif</th>       <td>   -0.0019</td> <td>    0.002</td> <td>   -0.901</td> <td> 0.368</td> <td>   -0.006</td> <td>    0.002</td>\n",
       "</tr>\n",
       "<tr>\n",
       "  <th>ch_pension</th>  <td>    1.0002</td> <td>    0.597</td> <td>    1.675</td> <td> 0.094</td> <td>   -0.170</td> <td>    2.170</td>\n",
       "</tr>\n",
       "<tr>\n",
       "  <th>ch_cm</th>       <td>    0.0002</td> <td>    0.000</td> <td>    0.358</td> <td> 0.721</td> <td>   -0.001</td> <td>    0.001</td>\n",
       "</tr>\n",
       "<tr>\n",
       "  <th>WC_acc</th>      <td>   -0.0702</td> <td>    0.023</td> <td>   -3.072</td> <td> 0.002</td> <td>   -0.115</td> <td>   -0.025</td>\n",
       "</tr>\n",
       "<tr>\n",
       "  <th>lagret1</th>     <td>   -0.0013</td> <td>    0.002</td> <td>   -0.585</td> <td> 0.559</td> <td>   -0.006</td> <td>    0.003</td>\n",
       "</tr>\n",
       "<tr>\n",
       "  <th>soft_assets</th> <td>    0.0046</td> <td>    0.005</td> <td>    0.868</td> <td> 0.385</td> <td>   -0.006</td> <td>    0.015</td>\n",
       "</tr>\n",
       "<tr>\n",
       "  <th>leverage</th>    <td>    0.0298</td> <td>    0.007</td> <td>    4.117</td> <td> 0.000</td> <td>    0.016</td> <td>    0.044</td>\n",
       "</tr>\n",
       "<tr>\n",
       "  <th>ch_roa</th>      <td>    0.0087</td> <td>    0.037</td> <td>    0.235</td> <td> 0.814</td> <td>   -0.064</td> <td>    0.082</td>\n",
       "</tr>\n",
       "<tr>\n",
       "  <th>ch_cs</th>       <td>    0.0019</td> <td>    0.001</td> <td>    1.942</td> <td> 0.052</td> <td>-1.81e-05</td> <td>    0.004</td>\n",
       "</tr>\n",
       "<tr>\n",
       "  <th>ch_inv</th>      <td>    0.1074</td> <td>    0.039</td> <td>    2.722</td> <td> 0.006</td> <td>    0.030</td> <td>    0.185</td>\n",
       "</tr>\n",
       "<tr>\n",
       "  <th>ind1</th>        <td>   -0.0114</td> <td>    0.027</td> <td>   -0.426</td> <td> 0.670</td> <td>   -0.064</td> <td>    0.041</td>\n",
       "</tr>\n",
       "<tr>\n",
       "  <th>ind2</th>        <td>    0.0228</td> <td>    0.009</td> <td>    2.635</td> <td> 0.008</td> <td>    0.006</td> <td>    0.040</td>\n",
       "</tr>\n",
       "<tr>\n",
       "  <th>ind3</th>        <td>    0.0115</td> <td>    0.010</td> <td>    1.175</td> <td> 0.240</td> <td>   -0.008</td> <td>    0.031</td>\n",
       "</tr>\n",
       "<tr>\n",
       "  <th>ind4</th>        <td>    0.0080</td> <td>    0.013</td> <td>    0.614</td> <td> 0.539</td> <td>   -0.018</td> <td>    0.034</td>\n",
       "</tr>\n",
       "<tr>\n",
       "  <th>ind5</th>        <td>   -0.0398</td> <td>    0.009</td> <td>   -4.261</td> <td> 0.000</td> <td>   -0.058</td> <td>   -0.021</td>\n",
       "</tr>\n",
       "<tr>\n",
       "  <th>ind6</th>        <td>   -0.0206</td> <td>    0.010</td> <td>   -2.151</td> <td> 0.031</td> <td>   -0.039</td> <td>   -0.002</td>\n",
       "</tr>\n",
       "<tr>\n",
       "  <th>ind7</th>        <td>    0.0132</td> <td>    0.008</td> <td>    1.685</td> <td> 0.092</td> <td>   -0.002</td> <td>    0.028</td>\n",
       "</tr>\n",
       "<tr>\n",
       "  <th>ind8</th>        <td>   -0.0009</td> <td>    0.006</td> <td>   -0.162</td> <td> 0.871</td> <td>   -0.012</td> <td>    0.010</td>\n",
       "</tr>\n",
       "<tr>\n",
       "  <th>ind9</th>        <td>    0.0398</td> <td>    0.006</td> <td>    6.904</td> <td> 0.000</td> <td>    0.029</td> <td>    0.051</td>\n",
       "</tr>\n",
       "<tr>\n",
       "  <th>ind10</th>       <td> 6.608e-05</td> <td>    0.007</td> <td>    0.009</td> <td> 0.993</td> <td>   -0.014</td> <td>    0.014</td>\n",
       "</tr>\n",
       "<tr>\n",
       "  <th>ind11</th>       <td>   -0.0099</td> <td>    0.009</td> <td>   -1.143</td> <td> 0.253</td> <td>   -0.027</td> <td>    0.007</td>\n",
       "</tr>\n",
       "<tr>\n",
       "  <th>ind12</th>       <td>    0.0493</td> <td>    0.006</td> <td>    7.611</td> <td> 0.000</td> <td>    0.037</td> <td>    0.062</td>\n",
       "</tr>\n",
       "<tr>\n",
       "  <th>ind13</th>       <td>    0.0266</td> <td>    0.006</td> <td>    4.215</td> <td> 0.000</td> <td>    0.014</td> <td>    0.039</td>\n",
       "</tr>\n",
       "<tr>\n",
       "  <th>ind14</th>       <td>   -0.0332</td> <td>    0.006</td> <td>   -5.581</td> <td> 0.000</td> <td>   -0.045</td> <td>   -0.022</td>\n",
       "</tr>\n",
       "<tr>\n",
       "  <th>fyear_2001</th>  <td>    0.0745</td> <td>    0.006</td> <td>   11.994</td> <td> 0.000</td> <td>    0.062</td> <td>    0.087</td>\n",
       "</tr>\n",
       "<tr>\n",
       "  <th>fyear_2002</th>  <td>    0.0803</td> <td>    0.006</td> <td>   13.126</td> <td> 0.000</td> <td>    0.068</td> <td>    0.092</td>\n",
       "</tr>\n",
       "<tr>\n",
       "  <th>fyear_2003</th>  <td>    0.0760</td> <td>    0.006</td> <td>   12.653</td> <td> 0.000</td> <td>    0.064</td> <td>    0.088</td>\n",
       "</tr>\n",
       "<tr>\n",
       "  <th>fyear_2004</th>  <td>    0.0563</td> <td>    0.006</td> <td>    9.476</td> <td> 0.000</td> <td>    0.045</td> <td>    0.068</td>\n",
       "</tr>\n",
       "<tr>\n",
       "  <th>fyear_2005</th>  <td>    0.0302</td> <td>    0.006</td> <td>    5.200</td> <td> 0.000</td> <td>    0.019</td> <td>    0.042</td>\n",
       "</tr>\n",
       "<tr>\n",
       "  <th>fyear_2006</th>  <td>    0.0012</td> <td>    0.006</td> <td>    0.203</td> <td> 0.839</td> <td>   -0.010</td> <td>    0.012</td>\n",
       "</tr>\n",
       "<tr>\n",
       "  <th>fyear_2007</th>  <td>   -0.0114</td> <td>    0.006</td> <td>   -2.027</td> <td> 0.043</td> <td>   -0.023</td> <td>   -0.000</td>\n",
       "</tr>\n",
       "<tr>\n",
       "  <th>fyear_2008</th>  <td>   -0.0142</td> <td>    0.006</td> <td>   -2.481</td> <td> 0.013</td> <td>   -0.025</td> <td>   -0.003</td>\n",
       "</tr>\n",
       "<tr>\n",
       "  <th>fyear_2009</th>  <td>   -0.0010</td> <td>    0.006</td> <td>   -0.173</td> <td> 0.863</td> <td>   -0.012</td> <td>    0.010</td>\n",
       "</tr>\n",
       "<tr>\n",
       "  <th>fyear_2010</th>  <td>    0.0011</td> <td>    0.006</td> <td>    0.190</td> <td> 0.850</td> <td>   -0.010</td> <td>    0.012</td>\n",
       "</tr>\n",
       "</table>\n",
       "<table class=\"simpletable\">\n",
       "<tr>\n",
       "  <th>Omnibus:</th>       <td>26229.799</td> <th>  Durbin-Watson:     </th>  <td>   0.806</td> \n",
       "</tr>\n",
       "<tr>\n",
       "  <th>Prob(Omnibus):</th>  <td> 0.000</td>   <th>  Jarque-Bera (JB):  </th> <td>181291.843</td>\n",
       "</tr>\n",
       "<tr>\n",
       "  <th>Skew:</th>           <td> 3.050</td>   <th>  Prob(JB):          </th>  <td>    0.00</td> \n",
       "</tr>\n",
       "<tr>\n",
       "  <th>Kurtosis:</th>       <td>10.993</td>   <th>  Cond. No.          </th>  <td>1.13e+04</td> \n",
       "</tr>\n",
       "</table><br/><br/>Notes:<br/>[1] Standard Errors assume that the covariance matrix of the errors is correctly specified.<br/>[2] The condition number is large, 1.13e+04. This might indicate that there are<br/>strong multicollinearity or other numerical problems."
      ],
      "text/plain": [
       "<class 'statsmodels.iolib.summary.Summary'>\n",
       "\"\"\"\n",
       "                            OLS Regression Results                            \n",
       "==============================================================================\n",
       "Dep. Variable:            restatement   R-squared:                       0.046\n",
       "Model:                            OLS   Adj. R-squared:                  0.045\n",
       "Method:                 Least Squares   F-statistic:                     52.17\n",
       "Date:                Fri, 30 Sep 2022   Prob (F-statistic):               0.00\n",
       "Time:                        19:52:17   Log-Likelihood:                -2281.8\n",
       "No. Observations:               43031   AIC:                             4646.\n",
       "Df Residuals:                   42990   BIC:                             5001.\n",
       "Df Model:                          40                                         \n",
       "Covariance Type:            nonrobust                                         \n",
       "===============================================================================\n",
       "                  coef    std err          t      P>|t|      [0.025      0.975]\n",
       "-------------------------------------------------------------------------------\n",
       "const           0.0409      0.007      5.996      0.000       0.028       0.054\n",
       "age            -0.0003   9.24e-05     -3.556      0.000      -0.001      -0.000\n",
       "auopic          0.1817      0.007     24.910      0.000       0.167       0.196\n",
       "spread         -0.1998      0.084     -2.386      0.017      -0.364      -0.036\n",
       "beat           -0.0041      0.003     -1.538      0.124      -0.009       0.001\n",
       "IG             -0.0210      0.004     -5.235      0.000      -0.029      -0.013\n",
       "short           0.1499      0.031      4.893      0.000       0.090       0.210\n",
       "dadif          -0.0019      0.002     -0.901      0.368      -0.006       0.002\n",
       "ch_pension      1.0002      0.597      1.675      0.094      -0.170       2.170\n",
       "ch_cm           0.0002      0.000      0.358      0.721      -0.001       0.001\n",
       "WC_acc         -0.0702      0.023     -3.072      0.002      -0.115      -0.025\n",
       "lagret1        -0.0013      0.002     -0.585      0.559      -0.006       0.003\n",
       "soft_assets     0.0046      0.005      0.868      0.385      -0.006       0.015\n",
       "leverage        0.0298      0.007      4.117      0.000       0.016       0.044\n",
       "ch_roa          0.0087      0.037      0.235      0.814      -0.064       0.082\n",
       "ch_cs           0.0019      0.001      1.942      0.052   -1.81e-05       0.004\n",
       "ch_inv          0.1074      0.039      2.722      0.006       0.030       0.185\n",
       "ind1           -0.0114      0.027     -0.426      0.670      -0.064       0.041\n",
       "ind2            0.0228      0.009      2.635      0.008       0.006       0.040\n",
       "ind3            0.0115      0.010      1.175      0.240      -0.008       0.031\n",
       "ind4            0.0080      0.013      0.614      0.539      -0.018       0.034\n",
       "ind5           -0.0398      0.009     -4.261      0.000      -0.058      -0.021\n",
       "ind6           -0.0206      0.010     -2.151      0.031      -0.039      -0.002\n",
       "ind7            0.0132      0.008      1.685      0.092      -0.002       0.028\n",
       "ind8           -0.0009      0.006     -0.162      0.871      -0.012       0.010\n",
       "ind9            0.0398      0.006      6.904      0.000       0.029       0.051\n",
       "ind10        6.608e-05      0.007      0.009      0.993      -0.014       0.014\n",
       "ind11          -0.0099      0.009     -1.143      0.253      -0.027       0.007\n",
       "ind12           0.0493      0.006      7.611      0.000       0.037       0.062\n",
       "ind13           0.0266      0.006      4.215      0.000       0.014       0.039\n",
       "ind14          -0.0332      0.006     -5.581      0.000      -0.045      -0.022\n",
       "fyear_2001      0.0745      0.006     11.994      0.000       0.062       0.087\n",
       "fyear_2002      0.0803      0.006     13.126      0.000       0.068       0.092\n",
       "fyear_2003      0.0760      0.006     12.653      0.000       0.064       0.088\n",
       "fyear_2004      0.0563      0.006      9.476      0.000       0.045       0.068\n",
       "fyear_2005      0.0302      0.006      5.200      0.000       0.019       0.042\n",
       "fyear_2006      0.0012      0.006      0.203      0.839      -0.010       0.012\n",
       "fyear_2007     -0.0114      0.006     -2.027      0.043      -0.023      -0.000\n",
       "fyear_2008     -0.0142      0.006     -2.481      0.013      -0.025      -0.003\n",
       "fyear_2009     -0.0010      0.006     -0.173      0.863      -0.012       0.010\n",
       "fyear_2010      0.0011      0.006      0.190      0.850      -0.010       0.012\n",
       "==============================================================================\n",
       "Omnibus:                    26229.799   Durbin-Watson:                   0.806\n",
       "Prob(Omnibus):                  0.000   Jarque-Bera (JB):           181291.843\n",
       "Skew:                           3.050   Prob(JB):                         0.00\n",
       "Kurtosis:                      10.993   Cond. No.                     1.13e+04\n",
       "==============================================================================\n",
       "\n",
       "Notes:\n",
       "[1] Standard Errors assume that the covariance matrix of the errors is correctly specified.\n",
       "[2] The condition number is large, 1.13e+04. This might indicate that there are\n",
       "strong multicollinearity or other numerical problems.\n",
       "\"\"\""
      ]
     },
     "execution_count": 58,
     "metadata": {},
     "output_type": "execute_result"
    }
   ],
   "source": [
    "x_columns_2 = ['age', 'auopic','spread','beat','IG','short', 'dadif','ch_pension', 'ch_cm' , 'WC_acc','lagret1','soft_assets','leverage','ch_roa', 'ch_cs','ch_inv'] + col_ind + col_year\n",
    "x_2 = df_data_final.loc[cond_0,x_columns_2] \n",
    "x_2 = sm.add_constant(x_2) \n",
    "\n",
    "y_2 = df_data_final.loc[cond_0, 'restatement']\n",
    "\n",
    "model_2 = sm.OLS(y_2, x_2).fit()\n",
    "model_2.summary()"
   ]
  },
  {
   "cell_type": "code",
   "execution_count": 59,
   "id": "903463ff",
   "metadata": {},
   "outputs": [
    {
     "data": {
      "text/plain": [
       "0        0.148138\n",
       "1        0.168255\n",
       "2        0.170952\n",
       "3        0.150063\n",
       "4        0.131774\n",
       "           ...   \n",
       "54349    0.074244\n",
       "54350    0.064086\n",
       "54351    0.064519\n",
       "54352    0.038884\n",
       "54353    0.070579\n",
       "Length: 54354, dtype: float64"
      ]
     },
     "execution_count": 59,
     "metadata": {},
     "output_type": "execute_result"
    }
   ],
   "source": [
    "X_all_2 = df_data_final[x_columns_2]  \n",
    "X_all_2 = sm.add_constant(X_all_2)\n",
    "y_pred_all_ols2 = model_2.predict(X_all_2)\n",
    "y_pred_all_ols2"
   ]
  },
  {
   "cell_type": "code",
   "execution_count": 60,
   "id": "a3ec5536",
   "metadata": {},
   "outputs": [
    {
     "data": {
      "text/plain": [
       "count    54354.000000\n",
       "mean         0.068985\n",
       "std          0.055171\n",
       "min         -0.059936\n",
       "25%          0.031461\n",
       "50%          0.064343\n",
       "75%          0.096905\n",
       "max          0.362675\n",
       "dtype: float64"
      ]
     },
     "execution_count": 60,
     "metadata": {},
     "output_type": "execute_result"
    }
   ],
   "source": [
    "y_pred_all_ols2.describe() "
   ]
  },
  {
   "cell_type": "code",
   "execution_count": 61,
   "id": "3a4b8634",
   "metadata": {},
   "outputs": [],
   "source": [
    "df_data_final['y_pred_all_ols2'] = y_pred_all_ols2\n",
    "group_year2 = df_data_final.groupby(['fyear_new'])['y_pred_all_ols2'].quantile(0.666).rename('pctile66_model_OLS2')\n",
    "                                                     #use all?          #also 0.666?\n"
   ]
  },
  {
   "cell_type": "code",
   "execution_count": 62,
   "id": "fae92da8",
   "metadata": {},
   "outputs": [
    {
     "data": {
      "text/plain": [
       "fyear_new\n",
       "2001    0.130177\n",
       "2002    0.137017\n",
       "2003    0.133621\n",
       "2004    0.122517\n",
       "2005    0.096777\n",
       "2006    0.067993\n",
       "2007    0.057978\n",
       "2008    0.053949\n",
       "2009    0.060911\n",
       "2010    0.064641\n",
       "2011    0.064432\n",
       "2012    0.064228\n",
       "2013    0.065785\n",
       "2014    0.066905\n",
       "Name: pctile66_model_OLS2, dtype: float64"
      ]
     },
     "execution_count": 62,
     "metadata": {},
     "output_type": "execute_result"
    }
   ],
   "source": [
    "group_year2"
   ]
  },
  {
   "cell_type": "code",
   "execution_count": 63,
   "id": "983bc014",
   "metadata": {},
   "outputs": [],
   "source": [
    "df_data_final = df_data_final.merge(group_year2, on='fyear_new', how='left') \n",
    "df_data_final['top_third_model_OLS2'] = 0 \n",
    "cond_top_third_OLS2 = (df_data_final['y_pred_all_ols2'] >= df_data_final['pctile66_model_OLS2'])\n",
    "df_data_final.loc[cond_top_third_OLS2, 'top_third_model_OLS2'] = 1"
   ]
  },
  {
   "cell_type": "code",
   "execution_count": 64,
   "id": "8070e343",
   "metadata": {},
   "outputs": [],
   "source": [
    "cond_select_OLS2 = (df_data_final['test'] == 1) & (df_data_final['top_third_model_OLS2'] == 1) & (df_data_final['restatement'] == 1)"
   ]
  },
  {
   "cell_type": "code",
   "execution_count": 65,
   "id": "f6505a34",
   "metadata": {},
   "outputs": [
    {
     "data": {
      "text/plain": [
       "230"
      ]
     },
     "execution_count": 65,
     "metadata": {},
     "output_type": "execute_result"
    }
   ],
   "source": [
    "len(df_data_final[cond_select_OLS2])"
   ]
  },
  {
   "cell_type": "code",
   "execution_count": 66,
   "id": "31bdf4f2",
   "metadata": {},
   "outputs": [
    {
     "data": {
      "text/plain": [
       "428"
      ]
     },
     "execution_count": 66,
     "metadata": {},
     "output_type": "execute_result"
    }
   ],
   "source": [
    "cond_how_many_restatement_test= (df_data_final['test'] == 1) & (df_data_final['restatement'] == 1)\n",
    "\n",
    "len(df_data_final[cond_how_many_restatement_test])"
   ]
  },
  {
   "cell_type": "markdown",
   "id": "5f1c8685",
   "metadata": {},
   "source": [
    "Interpretation: According to the new OLS model, SEC can catch 230/428 restatements."
   ]
  },
  {
   "cell_type": "markdown",
   "id": "a38a2eb1",
   "metadata": {},
   "source": [
    "$\\;\\;\\;\\;\\;$**ii. Logit**"
   ]
  },
  {
   "cell_type": "code",
   "execution_count": 67,
   "id": "e817dd42",
   "metadata": {},
   "outputs": [
    {
     "name": "stdout",
     "output_type": "stream",
     "text": [
      "Optimization terminated successfully.\n",
      "         Current function value: 0.241573\n",
      "         Iterations 8\n"
     ]
    },
    {
     "data": {
      "text/html": [
       "<table class=\"simpletable\">\n",
       "<caption>Logit Regression Results</caption>\n",
       "<tr>\n",
       "  <th>Dep. Variable:</th>      <td>restatement</td>   <th>  No. Observations:  </th>  <td> 43031</td> \n",
       "</tr>\n",
       "<tr>\n",
       "  <th>Model:</th>                 <td>Logit</td>      <th>  Df Residuals:      </th>  <td> 42990</td> \n",
       "</tr>\n",
       "<tr>\n",
       "  <th>Method:</th>                 <td>MLE</td>       <th>  Df Model:          </th>  <td>    40</td> \n",
       "</tr>\n",
       "<tr>\n",
       "  <th>Date:</th>            <td>Fri, 30 Sep 2022</td> <th>  Pseudo R-squ.:     </th>  <td>0.08176</td>\n",
       "</tr>\n",
       "<tr>\n",
       "  <th>Time:</th>                <td>19:52:24</td>     <th>  Log-Likelihood:    </th> <td> -10395.</td>\n",
       "</tr>\n",
       "<tr>\n",
       "  <th>converged:</th>             <td>True</td>       <th>  LL-Null:           </th> <td> -11321.</td>\n",
       "</tr>\n",
       "<tr>\n",
       "  <th>Covariance Type:</th>     <td>nonrobust</td>    <th>  LLR p-value:       </th>  <td> 0.000</td> \n",
       "</tr>\n",
       "</table>\n",
       "<table class=\"simpletable\">\n",
       "<tr>\n",
       "       <td></td>          <th>coef</th>     <th>std err</th>      <th>z</th>      <th>P>|z|</th>  <th>[0.025</th>    <th>0.975]</th>  \n",
       "</tr>\n",
       "<tr>\n",
       "  <th>const</th>       <td>   -3.1241</td> <td>    0.114</td> <td>  -27.509</td> <td> 0.000</td> <td>   -3.347</td> <td>   -2.902</td>\n",
       "</tr>\n",
       "<tr>\n",
       "  <th>age</th>         <td>   -0.0057</td> <td>    0.002</td> <td>   -3.689</td> <td> 0.000</td> <td>   -0.009</td> <td>   -0.003</td>\n",
       "</tr>\n",
       "<tr>\n",
       "  <th>auopic</th>      <td>    1.5693</td> <td>    0.072</td> <td>   21.654</td> <td> 0.000</td> <td>    1.427</td> <td>    1.711</td>\n",
       "</tr>\n",
       "<tr>\n",
       "  <th>spread</th>      <td>   -5.0119</td> <td>    1.384</td> <td>   -3.622</td> <td> 0.000</td> <td>   -7.724</td> <td>   -2.300</td>\n",
       "</tr>\n",
       "<tr>\n",
       "  <th>beat</th>        <td>   -0.0710</td> <td>    0.041</td> <td>   -1.725</td> <td> 0.085</td> <td>   -0.152</td> <td>    0.010</td>\n",
       "</tr>\n",
       "<tr>\n",
       "  <th>IG</th>          <td>   -0.4455</td> <td>    0.073</td> <td>   -6.098</td> <td> 0.000</td> <td>   -0.589</td> <td>   -0.302</td>\n",
       "</tr>\n",
       "<tr>\n",
       "  <th>short</th>       <td>    2.4095</td> <td>    0.438</td> <td>    5.503</td> <td> 0.000</td> <td>    1.551</td> <td>    3.268</td>\n",
       "</tr>\n",
       "<tr>\n",
       "  <th>dadif</th>       <td>   -0.0394</td> <td>    0.037</td> <td>   -1.053</td> <td> 0.292</td> <td>   -0.113</td> <td>    0.034</td>\n",
       "</tr>\n",
       "<tr>\n",
       "  <th>ch_pension</th>  <td>   16.2657</td> <td>   10.130</td> <td>    1.606</td> <td> 0.108</td> <td>   -3.589</td> <td>   36.121</td>\n",
       "</tr>\n",
       "<tr>\n",
       "  <th>ch_cm</th>       <td>    0.0052</td> <td>    0.009</td> <td>    0.592</td> <td> 0.554</td> <td>   -0.012</td> <td>    0.023</td>\n",
       "</tr>\n",
       "<tr>\n",
       "  <th>WC_acc</th>      <td>   -0.9027</td> <td>    0.331</td> <td>   -2.723</td> <td> 0.006</td> <td>   -1.552</td> <td>   -0.253</td>\n",
       "</tr>\n",
       "<tr>\n",
       "  <th>lagret1</th>     <td>   -0.0207</td> <td>    0.030</td> <td>   -0.689</td> <td> 0.491</td> <td>   -0.080</td> <td>    0.038</td>\n",
       "</tr>\n",
       "<tr>\n",
       "  <th>soft_assets</th> <td>    0.1052</td> <td>    0.082</td> <td>    1.277</td> <td> 0.202</td> <td>   -0.056</td> <td>    0.267</td>\n",
       "</tr>\n",
       "<tr>\n",
       "  <th>leverage</th>    <td>    0.4397</td> <td>    0.104</td> <td>    4.213</td> <td> 0.000</td> <td>    0.235</td> <td>    0.644</td>\n",
       "</tr>\n",
       "<tr>\n",
       "  <th>ch_roa</th>      <td>    0.1356</td> <td>    0.539</td> <td>    0.252</td> <td> 0.801</td> <td>   -0.921</td> <td>    1.192</td>\n",
       "</tr>\n",
       "<tr>\n",
       "  <th>ch_cs</th>       <td>    0.0404</td> <td>    0.018</td> <td>    2.234</td> <td> 0.025</td> <td>    0.005</td> <td>    0.076</td>\n",
       "</tr>\n",
       "<tr>\n",
       "  <th>ch_inv</th>      <td>    1.3195</td> <td>    0.576</td> <td>    2.291</td> <td> 0.022</td> <td>    0.191</td> <td>    2.448</td>\n",
       "</tr>\n",
       "<tr>\n",
       "  <th>ind1</th>        <td>   -0.1417</td> <td>    0.433</td> <td>   -0.327</td> <td> 0.743</td> <td>   -0.990</td> <td>    0.707</td>\n",
       "</tr>\n",
       "<tr>\n",
       "  <th>ind2</th>        <td>    0.3288</td> <td>    0.125</td> <td>    2.633</td> <td> 0.008</td> <td>    0.084</td> <td>    0.574</td>\n",
       "</tr>\n",
       "<tr>\n",
       "  <th>ind3</th>        <td>    0.1992</td> <td>    0.149</td> <td>    1.333</td> <td> 0.183</td> <td>   -0.094</td> <td>    0.492</td>\n",
       "</tr>\n",
       "<tr>\n",
       "  <th>ind4</th>        <td>    0.1404</td> <td>    0.195</td> <td>    0.719</td> <td> 0.472</td> <td>   -0.242</td> <td>    0.523</td>\n",
       "</tr>\n",
       "<tr>\n",
       "  <th>ind5</th>        <td>   -0.8669</td> <td>    0.197</td> <td>   -4.412</td> <td> 0.000</td> <td>   -1.252</td> <td>   -0.482</td>\n",
       "</tr>\n",
       "<tr>\n",
       "  <th>ind6</th>        <td>   -0.4104</td> <td>    0.177</td> <td>   -2.316</td> <td> 0.021</td> <td>   -0.758</td> <td>   -0.063</td>\n",
       "</tr>\n",
       "<tr>\n",
       "  <th>ind7</th>        <td>    0.2276</td> <td>    0.117</td> <td>    1.944</td> <td> 0.052</td> <td>   -0.002</td> <td>    0.457</td>\n",
       "</tr>\n",
       "<tr>\n",
       "  <th>ind8</th>        <td>   -0.0068</td> <td>    0.088</td> <td>   -0.077</td> <td> 0.938</td> <td>   -0.179</td> <td>    0.165</td>\n",
       "</tr>\n",
       "<tr>\n",
       "  <th>ind9</th>        <td>    0.5068</td> <td>    0.085</td> <td>    5.957</td> <td> 0.000</td> <td>    0.340</td> <td>    0.674</td>\n",
       "</tr>\n",
       "<tr>\n",
       "  <th>ind10</th>       <td>    0.0147</td> <td>    0.111</td> <td>    0.132</td> <td> 0.895</td> <td>   -0.204</td> <td>    0.233</td>\n",
       "</tr>\n",
       "<tr>\n",
       "  <th>ind11</th>       <td>   -0.2049</td> <td>    0.153</td> <td>   -1.337</td> <td> 0.181</td> <td>   -0.505</td> <td>    0.096</td>\n",
       "</tr>\n",
       "<tr>\n",
       "  <th>ind12</th>       <td>    0.6105</td> <td>    0.092</td> <td>    6.632</td> <td> 0.000</td> <td>    0.430</td> <td>    0.791</td>\n",
       "</tr>\n",
       "<tr>\n",
       "  <th>ind13</th>       <td>    0.3570</td> <td>    0.093</td> <td>    3.857</td> <td> 0.000</td> <td>    0.176</td> <td>    0.538</td>\n",
       "</tr>\n",
       "<tr>\n",
       "  <th>ind14</th>       <td>   -0.7709</td> <td>    0.103</td> <td>   -7.481</td> <td> 0.000</td> <td>   -0.973</td> <td>   -0.569</td>\n",
       "</tr>\n",
       "<tr>\n",
       "  <th>fyear_2001</th>  <td>    1.1461</td> <td>    0.098</td> <td>   11.750</td> <td> 0.000</td> <td>    0.955</td> <td>    1.337</td>\n",
       "</tr>\n",
       "<tr>\n",
       "  <th>fyear_2002</th>  <td>    1.1941</td> <td>    0.095</td> <td>   12.536</td> <td> 0.000</td> <td>    1.007</td> <td>    1.381</td>\n",
       "</tr>\n",
       "<tr>\n",
       "  <th>fyear_2003</th>  <td>    1.1318</td> <td>    0.094</td> <td>   12.062</td> <td> 0.000</td> <td>    0.948</td> <td>    1.316</td>\n",
       "</tr>\n",
       "<tr>\n",
       "  <th>fyear_2004</th>  <td>    0.8259</td> <td>    0.094</td> <td>    8.801</td> <td> 0.000</td> <td>    0.642</td> <td>    1.010</td>\n",
       "</tr>\n",
       "<tr>\n",
       "  <th>fyear_2005</th>  <td>    0.4981</td> <td>    0.096</td> <td>    5.192</td> <td> 0.000</td> <td>    0.310</td> <td>    0.686</td>\n",
       "</tr>\n",
       "<tr>\n",
       "  <th>fyear_2006</th>  <td>    0.0387</td> <td>    0.102</td> <td>    0.379</td> <td> 0.705</td> <td>   -0.161</td> <td>    0.239</td>\n",
       "</tr>\n",
       "<tr>\n",
       "  <th>fyear_2007</th>  <td>   -0.2226</td> <td>    0.105</td> <td>   -2.112</td> <td> 0.035</td> <td>   -0.429</td> <td>   -0.016</td>\n",
       "</tr>\n",
       "<tr>\n",
       "  <th>fyear_2008</th>  <td>   -0.3077</td> <td>    0.110</td> <td>   -2.808</td> <td> 0.005</td> <td>   -0.522</td> <td>   -0.093</td>\n",
       "</tr>\n",
       "<tr>\n",
       "  <th>fyear_2009</th>  <td>   -0.0265</td> <td>    0.107</td> <td>   -0.248</td> <td> 0.804</td> <td>   -0.236</td> <td>    0.183</td>\n",
       "</tr>\n",
       "<tr>\n",
       "  <th>fyear_2010</th>  <td>    0.0327</td> <td>    0.105</td> <td>    0.310</td> <td> 0.756</td> <td>   -0.174</td> <td>    0.239</td>\n",
       "</tr>\n",
       "</table>"
      ],
      "text/plain": [
       "<class 'statsmodels.iolib.summary.Summary'>\n",
       "\"\"\"\n",
       "                           Logit Regression Results                           \n",
       "==============================================================================\n",
       "Dep. Variable:            restatement   No. Observations:                43031\n",
       "Model:                          Logit   Df Residuals:                    42990\n",
       "Method:                           MLE   Df Model:                           40\n",
       "Date:                Fri, 30 Sep 2022   Pseudo R-squ.:                 0.08176\n",
       "Time:                        19:52:24   Log-Likelihood:                -10395.\n",
       "converged:                       True   LL-Null:                       -11321.\n",
       "Covariance Type:            nonrobust   LLR p-value:                     0.000\n",
       "===============================================================================\n",
       "                  coef    std err          z      P>|z|      [0.025      0.975]\n",
       "-------------------------------------------------------------------------------\n",
       "const          -3.1241      0.114    -27.509      0.000      -3.347      -2.902\n",
       "age            -0.0057      0.002     -3.689      0.000      -0.009      -0.003\n",
       "auopic          1.5693      0.072     21.654      0.000       1.427       1.711\n",
       "spread         -5.0119      1.384     -3.622      0.000      -7.724      -2.300\n",
       "beat           -0.0710      0.041     -1.725      0.085      -0.152       0.010\n",
       "IG             -0.4455      0.073     -6.098      0.000      -0.589      -0.302\n",
       "short           2.4095      0.438      5.503      0.000       1.551       3.268\n",
       "dadif          -0.0394      0.037     -1.053      0.292      -0.113       0.034\n",
       "ch_pension     16.2657     10.130      1.606      0.108      -3.589      36.121\n",
       "ch_cm           0.0052      0.009      0.592      0.554      -0.012       0.023\n",
       "WC_acc         -0.9027      0.331     -2.723      0.006      -1.552      -0.253\n",
       "lagret1        -0.0207      0.030     -0.689      0.491      -0.080       0.038\n",
       "soft_assets     0.1052      0.082      1.277      0.202      -0.056       0.267\n",
       "leverage        0.4397      0.104      4.213      0.000       0.235       0.644\n",
       "ch_roa          0.1356      0.539      0.252      0.801      -0.921       1.192\n",
       "ch_cs           0.0404      0.018      2.234      0.025       0.005       0.076\n",
       "ch_inv          1.3195      0.576      2.291      0.022       0.191       2.448\n",
       "ind1           -0.1417      0.433     -0.327      0.743      -0.990       0.707\n",
       "ind2            0.3288      0.125      2.633      0.008       0.084       0.574\n",
       "ind3            0.1992      0.149      1.333      0.183      -0.094       0.492\n",
       "ind4            0.1404      0.195      0.719      0.472      -0.242       0.523\n",
       "ind5           -0.8669      0.197     -4.412      0.000      -1.252      -0.482\n",
       "ind6           -0.4104      0.177     -2.316      0.021      -0.758      -0.063\n",
       "ind7            0.2276      0.117      1.944      0.052      -0.002       0.457\n",
       "ind8           -0.0068      0.088     -0.077      0.938      -0.179       0.165\n",
       "ind9            0.5068      0.085      5.957      0.000       0.340       0.674\n",
       "ind10           0.0147      0.111      0.132      0.895      -0.204       0.233\n",
       "ind11          -0.2049      0.153     -1.337      0.181      -0.505       0.096\n",
       "ind12           0.6105      0.092      6.632      0.000       0.430       0.791\n",
       "ind13           0.3570      0.093      3.857      0.000       0.176       0.538\n",
       "ind14          -0.7709      0.103     -7.481      0.000      -0.973      -0.569\n",
       "fyear_2001      1.1461      0.098     11.750      0.000       0.955       1.337\n",
       "fyear_2002      1.1941      0.095     12.536      0.000       1.007       1.381\n",
       "fyear_2003      1.1318      0.094     12.062      0.000       0.948       1.316\n",
       "fyear_2004      0.8259      0.094      8.801      0.000       0.642       1.010\n",
       "fyear_2005      0.4981      0.096      5.192      0.000       0.310       0.686\n",
       "fyear_2006      0.0387      0.102      0.379      0.705      -0.161       0.239\n",
       "fyear_2007     -0.2226      0.105     -2.112      0.035      -0.429      -0.016\n",
       "fyear_2008     -0.3077      0.110     -2.808      0.005      -0.522      -0.093\n",
       "fyear_2009     -0.0265      0.107     -0.248      0.804      -0.236       0.183\n",
       "fyear_2010      0.0327      0.105      0.310      0.756      -0.174       0.239\n",
       "===============================================================================\n",
       "\"\"\""
      ]
     },
     "execution_count": 67,
     "metadata": {},
     "output_type": "execute_result"
    }
   ],
   "source": [
    "model_logit_2 = sm.Logit(y_2,x_2).fit()\n",
    "model_logit_2.summary()"
   ]
  },
  {
   "cell_type": "code",
   "execution_count": 68,
   "id": "be7f53f4",
   "metadata": {},
   "outputs": [
    {
     "data": {
      "text/plain": [
       "0        0.145426\n",
       "1        0.199330\n",
       "2        0.212320\n",
       "3        0.161909\n",
       "4        0.134343\n",
       "           ...   \n",
       "54349    0.073980\n",
       "54350    0.059764\n",
       "54351    0.060386\n",
       "54352    0.041601\n",
       "54353    0.065707\n",
       "Length: 54354, dtype: float64"
      ]
     },
     "execution_count": 68,
     "metadata": {},
     "output_type": "execute_result"
    }
   ],
   "source": [
    "X_all_2 = df_data_final[x_columns_2]  \n",
    "X_all_2 = sm.add_constant(X_all_2)\n",
    "y_pred_all_logit2 = model_logit_2.predict(X_all_2)\n",
    "y_pred_all_logit2"
   ]
  },
  {
   "cell_type": "code",
   "execution_count": 69,
   "id": "42ae4548",
   "metadata": {},
   "outputs": [
    {
     "data": {
      "text/plain": [
       "count    54354.000000\n",
       "mean         0.069015\n",
       "std          0.056690\n",
       "min          0.005704\n",
       "25%          0.032904\n",
       "50%          0.053634\n",
       "75%          0.085515\n",
       "max          0.613959\n",
       "dtype: float64"
      ]
     },
     "execution_count": 69,
     "metadata": {},
     "output_type": "execute_result"
    }
   ],
   "source": [
    "y_pred_all_logit2.describe() "
   ]
  },
  {
   "cell_type": "code",
   "execution_count": 70,
   "id": "79561852",
   "metadata": {},
   "outputs": [],
   "source": [
    "df_data_final['y_pred_all_logit2'] = y_pred_all_logit2\n",
    "group_year3 = df_data_final.groupby(['fyear_new'])['y_pred_all_logit2'].quantile(0.666).rename('pctile66_model_logit2')"
   ]
  },
  {
   "cell_type": "code",
   "execution_count": 71,
   "id": "534e543a",
   "metadata": {},
   "outputs": [
    {
     "data": {
      "text/plain": [
       "fyear_new\n",
       "2001    0.136544\n",
       "2002    0.144287\n",
       "2003    0.139712\n",
       "2004    0.121814\n",
       "2005    0.091797\n",
       "2006    0.060551\n",
       "2007    0.049275\n",
       "2008    0.044090\n",
       "2009    0.052261\n",
       "2010    0.057472\n",
       "2011    0.056721\n",
       "2012    0.056425\n",
       "2013    0.057641\n",
       "2014    0.058365\n",
       "Name: pctile66_model_logit2, dtype: float64"
      ]
     },
     "execution_count": 71,
     "metadata": {},
     "output_type": "execute_result"
    }
   ],
   "source": [
    "group_year3"
   ]
  },
  {
   "cell_type": "code",
   "execution_count": 72,
   "id": "ba5bdb21",
   "metadata": {},
   "outputs": [],
   "source": [
    "df_data_final = df_data_final.merge(group_year3, on='fyear_new', how='left') \n",
    "df_data_final['top_third_model_logit2'] = 0 \n",
    "cond_top_third_logit2 = (df_data_final['y_pred_all_logit2'] >= df_data_final['pctile66_model_logit2'])\n",
    "df_data_final.loc[cond_top_third_logit2, 'top_third_model_logit2'] = 1"
   ]
  },
  {
   "cell_type": "code",
   "execution_count": 73,
   "id": "50cad078",
   "metadata": {},
   "outputs": [],
   "source": [
    "cond_select_logit2 = (df_data_final['test'] == 1) & (df_data_final['top_third_model_logit2'] == 1) & (df_data_final['restatement'] == 1)"
   ]
  },
  {
   "cell_type": "code",
   "execution_count": 74,
   "id": "b66d399f",
   "metadata": {},
   "outputs": [
    {
     "data": {
      "text/plain": [
       "235"
      ]
     },
     "execution_count": 74,
     "metadata": {},
     "output_type": "execute_result"
    }
   ],
   "source": [
    "len(df_data_final[cond_select_logit2])"
   ]
  },
  {
   "cell_type": "code",
   "execution_count": 75,
   "id": "7b68949b",
   "metadata": {},
   "outputs": [
    {
     "data": {
      "text/plain": [
       "428"
      ]
     },
     "execution_count": 75,
     "metadata": {},
     "output_type": "execute_result"
    }
   ],
   "source": [
    "cond_how_many_restatement_test= (df_data_final['test'] == 1) & (df_data_final['restatement'] == 1)\n",
    "\n",
    "len(df_data_final[cond_how_many_restatement_test])"
   ]
  },
  {
   "cell_type": "markdown",
   "id": "8f5edab1",
   "metadata": {},
   "source": [
    "Interpretation: According to the new Logit model, SEC can catch 235/428 restatements."
   ]
  },
  {
   "cell_type": "markdown",
   "id": "f517daf2",
   "metadata": {},
   "source": [
    "### 4. LASSO "
   ]
  },
  {
   "cell_type": "code",
   "execution_count": 142,
   "id": "26226427",
   "metadata": {},
   "outputs": [],
   "source": [
    "from sklearn.linear_model import Lasso\n",
    "from sklearn.model_selection import GridSearchCV"
   ]
  },
  {
   "cell_type": "code",
   "execution_count": 156,
   "id": "0f0fc87d",
   "metadata": {},
   "outputs": [],
   "source": [
    "param = {'alpha':np.arange(0,0.001,0.00005)}"
   ]
  },
  {
   "cell_type": "code",
   "execution_count": 157,
   "id": "2eb7bf3f",
   "metadata": {},
   "outputs": [
    {
     "data": {
      "text/plain": [
       "GridSearchCV(estimator=Lasso(),\n",
       "             param_grid={'alpha': array([0.0e+00, 5.0e-05, 1.0e-04, 1.5e-04, 2.0e-04, 2.5e-04, 3.0e-04,\n",
       "       3.5e-04, 4.0e-04, 4.5e-04, 5.0e-04, 5.5e-04, 6.0e-04, 6.5e-04,\n",
       "       7.0e-04, 7.5e-04, 8.0e-04, 8.5e-04, 9.0e-04, 9.5e-04])})"
      ]
     },
     "execution_count": 157,
     "metadata": {},
     "output_type": "execute_result"
    }
   ],
   "source": [
    "lasso=Lasso() \n",
    "lasso_search = GridSearchCV(lasso, param) \n",
    "lasso_search.fit(x, y)\n",
    "  "
   ]
  },
  {
   "cell_type": "code",
   "execution_count": 158,
   "id": "924a2181",
   "metadata": {
    "scrolled": true
   },
   "outputs": [
    {
     "data": {
      "text/plain": [
       "{'mean_fit_time': array([4.82537093, 0.12426891, 0.11868877, 0.10607572, 0.11056085,\n",
       "        0.08859987, 0.08719578, 0.07744699, 0.08705158, 0.0816153 ,\n",
       "        0.0840529 , 0.07667499, 0.0777174 , 0.07615733, 0.07466106,\n",
       "        0.06939888, 0.07570539, 0.07161446, 0.07443447, 0.06510892]),\n",
       " 'std_fit_time': array([0.27133654, 0.01540421, 0.01053477, 0.02009123, 0.03025368,\n",
       "        0.00650753, 0.01089126, 0.00357066, 0.01535732, 0.0135826 ,\n",
       "        0.01470461, 0.01033959, 0.01419698, 0.01499664, 0.00859146,\n",
       "        0.01027958, 0.0123338 , 0.00929296, 0.00806464, 0.00343729]),\n",
       " 'mean_score_time': array([0.00542979, 0.00511346, 0.00332432, 0.00512104, 0.00202026,\n",
       "        0.00356822, 0.00505557, 0.00298076, 0.00671158, 0.00474272,\n",
       "        0.00549192, 0.00497375, 0.00401182, 0.00315208, 0.00279365,\n",
       "        0.00687194, 0.00483441, 0.00322766, 0.00328584, 0.00235267]),\n",
       " 'std_score_time': array([0.00312727, 0.00326145, 0.00257442, 0.00403265, 0.00161011,\n",
       "        0.00226848, 0.00252435, 0.00137368, 0.00213783, 0.0030311 ,\n",
       "        0.00518798, 0.00205884, 0.0033054 , 0.00064682, 0.00122643,\n",
       "        0.00287674, 0.00253559, 0.00161798, 0.00152513, 0.00203511]),\n",
       " 'param_alpha': masked_array(data=[0.0, 5e-05, 0.0001, 0.00015000000000000001, 0.0002,\n",
       "                    0.00025, 0.00030000000000000003, 0.00035, 0.0004,\n",
       "                    0.00045000000000000004, 0.0005, 0.00055,\n",
       "                    0.0006000000000000001, 0.0006500000000000001, 0.0007,\n",
       "                    0.00075, 0.0008, 0.0008500000000000001,\n",
       "                    0.0009000000000000001, 0.00095],\n",
       "              mask=[False, False, False, False, False, False, False, False,\n",
       "                    False, False, False, False, False, False, False, False,\n",
       "                    False, False, False, False],\n",
       "        fill_value='?',\n",
       "             dtype=object),\n",
       " 'params': [{'alpha': 0.0},\n",
       "  {'alpha': 5e-05},\n",
       "  {'alpha': 0.0001},\n",
       "  {'alpha': 0.00015000000000000001},\n",
       "  {'alpha': 0.0002},\n",
       "  {'alpha': 0.00025},\n",
       "  {'alpha': 0.00030000000000000003},\n",
       "  {'alpha': 0.00035},\n",
       "  {'alpha': 0.0004},\n",
       "  {'alpha': 0.00045000000000000004},\n",
       "  {'alpha': 0.0005},\n",
       "  {'alpha': 0.00055},\n",
       "  {'alpha': 0.0006000000000000001},\n",
       "  {'alpha': 0.0006500000000000001},\n",
       "  {'alpha': 0.0007},\n",
       "  {'alpha': 0.00075},\n",
       "  {'alpha': 0.0008},\n",
       "  {'alpha': 0.0008500000000000001},\n",
       "  {'alpha': 0.0009000000000000001},\n",
       "  {'alpha': 0.00095}],\n",
       " 'split0_test_score': array([0.00852746, 0.00866007, 0.00865676, 0.00850964, 0.00843341,\n",
       "        0.00828922, 0.00820156, 0.00807299, 0.00791115, 0.00783094,\n",
       "        0.0077354 , 0.00782587, 0.00789498, 0.00794302, 0.00796932,\n",
       "        0.00797926, 0.00797531, 0.00795847, 0.0079446 , 0.00791662]),\n",
       " 'split1_test_score': array([0.02098026, 0.02204583, 0.0227108 , 0.02309044, 0.02312398,\n",
       "        0.02311293, 0.02306806, 0.0229894 , 0.02287692, 0.02275916,\n",
       "        0.0226122 , 0.02247792, 0.02242397, 0.0223525 , 0.02225993,\n",
       "        0.02214625, 0.02201147, 0.02185538, 0.02170126, 0.02154782]),\n",
       " 'split2_test_score': array([0.02970053, 0.02961716, 0.02924492, 0.02899649, 0.02886118,\n",
       "        0.0287063 , 0.02847973, 0.02819169, 0.02788264, 0.02755563,\n",
       "        0.02721355, 0.02686501, 0.02655853, 0.02625747, 0.02595511,\n",
       "        0.02562044, 0.02526312, 0.0248915 , 0.0245056 , 0.02410543]),\n",
       " 'split3_test_score': array([0.04064457, 0.04015873, 0.03939574, 0.03908488, 0.03872289,\n",
       "        0.03833774, 0.0379549 , 0.03754139, 0.03710343, 0.03666919,\n",
       "        0.03625261, 0.03585502, 0.03546321, 0.03505624, 0.03463414,\n",
       "        0.0341969 , 0.03374451, 0.03327532, 0.03278112, 0.03227271]),\n",
       " 'split4_test_score': array([0.00112654, 0.00228785, 0.00321626, 0.0039063 , 0.00422064,\n",
       "        0.00448485, 0.00473376, 0.00495808, 0.00515775, 0.00533278,\n",
       "        0.00548315, 0.00560885, 0.00571024, 0.00581321, 0.00590163,\n",
       "        0.00598093, 0.00605222, 0.00609559, 0.00610434, 0.00610282]),\n",
       " 'mean_test_score': array([0.02019587, 0.02055393, 0.02064489, 0.02071755, 0.02067242,\n",
       "        0.02058621, 0.0204876 , 0.02035071, 0.02018638, 0.02002954,\n",
       "        0.01985938, 0.01972654, 0.01961018, 0.01948449, 0.01934403,\n",
       "        0.01918476, 0.01900932, 0.01881525, 0.01860739, 0.01838908]),\n",
       " 'std_test_score': array([0.01420489, 0.01373921, 0.0132461 , 0.012986  , 0.01280109,\n",
       "        0.01263255, 0.01244805, 0.01226082, 0.01207642, 0.01188084,\n",
       "        0.01169672, 0.01148556, 0.01129575, 0.01110574, 0.01091859,\n",
       "        0.01072807, 0.01053456, 0.01034327, 0.01015162, 0.00996026]),\n",
       " 'rank_test_score': array([ 8,  5,  3,  1,  2,  4,  6,  7,  9, 10, 11, 12, 13, 14, 15, 16, 17,\n",
       "        18, 19, 20])}"
      ]
     },
     "execution_count": 158,
     "metadata": {},
     "output_type": "execute_result"
    }
   ],
   "source": [
    "lasso_search.cv_results_"
   ]
  },
  {
   "cell_type": "code",
   "execution_count": 160,
   "id": "2d8f4000",
   "metadata": {},
   "outputs": [
    {
     "data": {
      "text/plain": [
       "GridSearchCV(estimator=Lasso(),\n",
       "             param_grid={'alpha': array([0.0e+00, 5.0e-05, 1.0e-04, 1.5e-04, 2.0e-04, 2.5e-04, 3.0e-04,\n",
       "       3.5e-04, 4.0e-04, 4.5e-04, 5.0e-04, 5.5e-04, 6.0e-04, 6.5e-04,\n",
       "       7.0e-04, 7.5e-04, 8.0e-04, 8.5e-04, 9.0e-04, 9.5e-04])},\n",
       "             scoring='r2')"
      ]
     },
     "execution_count": 160,
     "metadata": {},
     "output_type": "execute_result"
    }
   ],
   "source": [
    "lasso_search_2 = GridSearchCV(lasso, param, scoring='r2')\n",
    "lasso_search_2.fit(x, y)"
   ]
  },
  {
   "cell_type": "code",
   "execution_count": 159,
   "id": "f37a8bad",
   "metadata": {},
   "outputs": [
    {
     "name": "stdout",
     "output_type": "stream",
     "text": [
      "mean_fit_time [4.82537093 0.12426891 0.11868877 0.10607572 0.11056085 0.08859987\n",
      " 0.08719578 0.07744699 0.08705158 0.0816153  0.0840529  0.07667499\n",
      " 0.0777174  0.07615733 0.07466106 0.06939888 0.07570539 0.07161446\n",
      " 0.07443447 0.06510892]\n",
      "0.020717547903249155\n",
      "{'alpha': 0.00015000000000000001}\n",
      "Lasso(alpha=0.00015000000000000001)\n",
      "std_fit_time [0.27133654 0.01540421 0.01053477 0.02009123 0.03025368 0.00650753\n",
      " 0.01089126 0.00357066 0.01535732 0.0135826  0.01470461 0.01033959\n",
      " 0.01419698 0.01499664 0.00859146 0.01027958 0.0123338  0.00929296\n",
      " 0.00806464 0.00343729]\n",
      "0.020717547903249155\n",
      "{'alpha': 0.00015000000000000001}\n",
      "Lasso(alpha=0.00015000000000000001)\n",
      "mean_score_time [0.00542979 0.00511346 0.00332432 0.00512104 0.00202026 0.00356822\n",
      " 0.00505557 0.00298076 0.00671158 0.00474272 0.00549192 0.00497375\n",
      " 0.00401182 0.00315208 0.00279365 0.00687194 0.00483441 0.00322766\n",
      " 0.00328584 0.00235267]\n",
      "0.020717547903249155\n",
      "{'alpha': 0.00015000000000000001}\n",
      "Lasso(alpha=0.00015000000000000001)\n",
      "std_score_time [0.00312727 0.00326145 0.00257442 0.00403265 0.00161011 0.00226848\n",
      " 0.00252435 0.00137368 0.00213783 0.0030311  0.00518798 0.00205884\n",
      " 0.0033054  0.00064682 0.00122643 0.00287674 0.00253559 0.00161798\n",
      " 0.00152513 0.00203511]\n",
      "0.020717547903249155\n",
      "{'alpha': 0.00015000000000000001}\n",
      "Lasso(alpha=0.00015000000000000001)\n",
      "param_alpha [0.0 5e-05 0.0001 0.00015000000000000001 0.0002 0.00025\n",
      " 0.00030000000000000003 0.00035 0.0004 0.00045000000000000004 0.0005\n",
      " 0.00055 0.0006000000000000001 0.0006500000000000001 0.0007 0.00075 0.0008\n",
      " 0.0008500000000000001 0.0009000000000000001 0.00095]\n",
      "0.020717547903249155\n",
      "{'alpha': 0.00015000000000000001}\n",
      "Lasso(alpha=0.00015000000000000001)\n",
      "params [{'alpha': 0.0}, {'alpha': 5e-05}, {'alpha': 0.0001}, {'alpha': 0.00015000000000000001}, {'alpha': 0.0002}, {'alpha': 0.00025}, {'alpha': 0.00030000000000000003}, {'alpha': 0.00035}, {'alpha': 0.0004}, {'alpha': 0.00045000000000000004}, {'alpha': 0.0005}, {'alpha': 0.00055}, {'alpha': 0.0006000000000000001}, {'alpha': 0.0006500000000000001}, {'alpha': 0.0007}, {'alpha': 0.00075}, {'alpha': 0.0008}, {'alpha': 0.0008500000000000001}, {'alpha': 0.0009000000000000001}, {'alpha': 0.00095}]\n",
      "0.020717547903249155\n",
      "{'alpha': 0.00015000000000000001}\n",
      "Lasso(alpha=0.00015000000000000001)\n",
      "split0_test_score [0.00852746 0.00866007 0.00865676 0.00850964 0.00843341 0.00828922\n",
      " 0.00820156 0.00807299 0.00791115 0.00783094 0.0077354  0.00782587\n",
      " 0.00789498 0.00794302 0.00796932 0.00797926 0.00797531 0.00795847\n",
      " 0.0079446  0.00791662]\n",
      "0.020717547903249155\n",
      "{'alpha': 0.00015000000000000001}\n",
      "Lasso(alpha=0.00015000000000000001)\n",
      "split1_test_score [0.02098026 0.02204583 0.0227108  0.02309044 0.02312398 0.02311293\n",
      " 0.02306806 0.0229894  0.02287692 0.02275916 0.0226122  0.02247792\n",
      " 0.02242397 0.0223525  0.02225993 0.02214625 0.02201147 0.02185538\n",
      " 0.02170126 0.02154782]\n",
      "0.020717547903249155\n",
      "{'alpha': 0.00015000000000000001}\n",
      "Lasso(alpha=0.00015000000000000001)\n",
      "split2_test_score [0.02970053 0.02961716 0.02924492 0.02899649 0.02886118 0.0287063\n",
      " 0.02847973 0.02819169 0.02788264 0.02755563 0.02721355 0.02686501\n",
      " 0.02655853 0.02625747 0.02595511 0.02562044 0.02526312 0.0248915\n",
      " 0.0245056  0.02410543]\n",
      "0.020717547903249155\n",
      "{'alpha': 0.00015000000000000001}\n",
      "Lasso(alpha=0.00015000000000000001)\n",
      "split3_test_score [0.04064457 0.04015873 0.03939574 0.03908488 0.03872289 0.03833774\n",
      " 0.0379549  0.03754139 0.03710343 0.03666919 0.03625261 0.03585502\n",
      " 0.03546321 0.03505624 0.03463414 0.0341969  0.03374451 0.03327532\n",
      " 0.03278112 0.03227271]\n",
      "0.020717547903249155\n",
      "{'alpha': 0.00015000000000000001}\n",
      "Lasso(alpha=0.00015000000000000001)\n",
      "split4_test_score [0.00112654 0.00228785 0.00321626 0.0039063  0.00422064 0.00448485\n",
      " 0.00473376 0.00495808 0.00515775 0.00533278 0.00548315 0.00560885\n",
      " 0.00571024 0.00581321 0.00590163 0.00598093 0.00605222 0.00609559\n",
      " 0.00610434 0.00610282]\n",
      "0.020717547903249155\n",
      "{'alpha': 0.00015000000000000001}\n",
      "Lasso(alpha=0.00015000000000000001)\n",
      "mean_test_score [0.02019587 0.02055393 0.02064489 0.02071755 0.02067242 0.02058621\n",
      " 0.0204876  0.02035071 0.02018638 0.02002954 0.01985938 0.01972654\n",
      " 0.01961018 0.01948449 0.01934403 0.01918476 0.01900932 0.01881525\n",
      " 0.01860739 0.01838908]\n",
      "0.020717547903249155\n",
      "{'alpha': 0.00015000000000000001}\n",
      "Lasso(alpha=0.00015000000000000001)\n",
      "std_test_score [0.01420489 0.01373921 0.0132461  0.012986   0.01280109 0.01263255\n",
      " 0.01244805 0.01226082 0.01207642 0.01188084 0.01169672 0.01148556\n",
      " 0.01129575 0.01110574 0.01091859 0.01072807 0.01053456 0.01034327\n",
      " 0.01015162 0.00996026]\n",
      "0.020717547903249155\n",
      "{'alpha': 0.00015000000000000001}\n",
      "Lasso(alpha=0.00015000000000000001)\n",
      "rank_test_score [ 8  5  3  1  2  4  6  7  9 10 11 12 13 14 15 16 17 18 19 20]\n",
      "0.020717547903249155\n",
      "{'alpha': 0.00015000000000000001}\n",
      "Lasso(alpha=0.00015000000000000001)\n"
     ]
    }
   ],
   "source": [
    "for result in lasso_search.cv_results_:\n",
    "    print(result, lasso_search.cv_results_[result])\n",
    "    print(lasso_search.best_score_)\n",
    "    print(lasso_search.best_params_)\n",
    "    print(lasso_search.best_estimator_)"
   ]
  },
  {
   "cell_type": "code",
   "execution_count": 139,
   "id": "68ea6e12",
   "metadata": {},
   "outputs": [],
   "source": [
    "lasso_search_2 = GridSearchCV(lasso, param, scoring='r2')\n",
    "lasso_search_2.fit(x, y)"
   ]
  },
  {
   "cell_type": "code",
   "execution_count": 161,
   "id": "37ab36b3",
   "metadata": {},
   "outputs": [
    {
     "name": "stdout",
     "output_type": "stream",
     "text": [
      "mean_fit_time [2.78725486 0.06973624 0.07109509 0.06561403 0.06984482 0.07842884\n",
      " 0.06185145 0.04902596 0.04977207 0.05060639 0.04433441 0.0475132\n",
      " 0.04639635 0.04543786 0.04294863 0.0449615  0.0397882  0.05263443\n",
      " 0.03873782 0.03714437]\n",
      "Lasso(alpha=0.00015000000000000001)\n",
      "std_fit_time [0.0670748  0.01379828 0.00853253 0.01210622 0.029856   0.00348668\n",
      " 0.00872397 0.00741693 0.00489656 0.00853018 0.0075199  0.00492434\n",
      " 0.00380502 0.00656663 0.00724209 0.00483639 0.00512174 0.00572329\n",
      " 0.00539004 0.00363117]\n",
      "Lasso(alpha=0.00015000000000000001)\n",
      "mean_score_time [0.00271735 0.00278749 0.00229955 0.00204377 0.00271821 0.00558786\n",
      " 0.00389919 0.00227914 0.00270905 0.00318513 0.00247264 0.00232654\n",
      " 0.00259271 0.00280185 0.00213432 0.00289826 0.00212522 0.00364704\n",
      " 0.00250793 0.00257792]\n",
      "Lasso(alpha=0.00015000000000000001)\n",
      "std_score_time [0.00072955 0.00039692 0.00025114 0.00022658 0.00070611 0.00125589\n",
      " 0.00064743 0.00028822 0.00040057 0.00087556 0.00041476 0.00070954\n",
      " 0.00080837 0.00040078 0.00067784 0.00042214 0.00059663 0.00130663\n",
      " 0.0004536  0.00054796]\n",
      "Lasso(alpha=0.00015000000000000001)\n",
      "param_alpha [0.0 5e-05 0.0001 0.00015000000000000001 0.0002 0.00025\n",
      " 0.00030000000000000003 0.00035 0.0004 0.00045000000000000004 0.0005\n",
      " 0.00055 0.0006000000000000001 0.0006500000000000001 0.0007 0.00075 0.0008\n",
      " 0.0008500000000000001 0.0009000000000000001 0.00095]\n",
      "Lasso(alpha=0.00015000000000000001)\n",
      "params [{'alpha': 0.0}, {'alpha': 5e-05}, {'alpha': 0.0001}, {'alpha': 0.00015000000000000001}, {'alpha': 0.0002}, {'alpha': 0.00025}, {'alpha': 0.00030000000000000003}, {'alpha': 0.00035}, {'alpha': 0.0004}, {'alpha': 0.00045000000000000004}, {'alpha': 0.0005}, {'alpha': 0.00055}, {'alpha': 0.0006000000000000001}, {'alpha': 0.0006500000000000001}, {'alpha': 0.0007}, {'alpha': 0.00075}, {'alpha': 0.0008}, {'alpha': 0.0008500000000000001}, {'alpha': 0.0009000000000000001}, {'alpha': 0.00095}]\n",
      "Lasso(alpha=0.00015000000000000001)\n",
      "split0_test_score [0.00852746 0.00866007 0.00865676 0.00850964 0.00843341 0.00828922\n",
      " 0.00820156 0.00807299 0.00791115 0.00783094 0.0077354  0.00782587\n",
      " 0.00789498 0.00794302 0.00796932 0.00797926 0.00797531 0.00795847\n",
      " 0.0079446  0.00791662]\n",
      "Lasso(alpha=0.00015000000000000001)\n",
      "split1_test_score [0.02098026 0.02204583 0.0227108  0.02309044 0.02312398 0.02311293\n",
      " 0.02306806 0.0229894  0.02287692 0.02275916 0.0226122  0.02247792\n",
      " 0.02242397 0.0223525  0.02225993 0.02214625 0.02201147 0.02185538\n",
      " 0.02170126 0.02154782]\n",
      "Lasso(alpha=0.00015000000000000001)\n",
      "split2_test_score [0.02970053 0.02961716 0.02924492 0.02899649 0.02886118 0.0287063\n",
      " 0.02847973 0.02819169 0.02788264 0.02755563 0.02721355 0.02686501\n",
      " 0.02655853 0.02625747 0.02595511 0.02562044 0.02526312 0.0248915\n",
      " 0.0245056  0.02410543]\n",
      "Lasso(alpha=0.00015000000000000001)\n",
      "split3_test_score [0.04064457 0.04015873 0.03939574 0.03908488 0.03872289 0.03833774\n",
      " 0.0379549  0.03754139 0.03710343 0.03666919 0.03625261 0.03585502\n",
      " 0.03546321 0.03505624 0.03463414 0.0341969  0.03374451 0.03327532\n",
      " 0.03278112 0.03227271]\n",
      "Lasso(alpha=0.00015000000000000001)\n",
      "split4_test_score [0.00112654 0.00228785 0.00321626 0.0039063  0.00422064 0.00448485\n",
      " 0.00473376 0.00495808 0.00515775 0.00533278 0.00548315 0.00560885\n",
      " 0.00571024 0.00581321 0.00590163 0.00598093 0.00605222 0.00609559\n",
      " 0.00610434 0.00610282]\n",
      "Lasso(alpha=0.00015000000000000001)\n",
      "mean_test_score [0.02019587 0.02055393 0.02064489 0.02071755 0.02067242 0.02058621\n",
      " 0.0204876  0.02035071 0.02018638 0.02002954 0.01985938 0.01972654\n",
      " 0.01961018 0.01948449 0.01934403 0.01918476 0.01900932 0.01881525\n",
      " 0.01860739 0.01838908]\n",
      "Lasso(alpha=0.00015000000000000001)\n",
      "std_test_score [0.01420489 0.01373921 0.0132461  0.012986   0.01280109 0.01263255\n",
      " 0.01244805 0.01226082 0.01207642 0.01188084 0.01169672 0.01148556\n",
      " 0.01129575 0.01110574 0.01091859 0.01072807 0.01053456 0.01034327\n",
      " 0.01015162 0.00996026]\n",
      "Lasso(alpha=0.00015000000000000001)\n",
      "rank_test_score [ 8  5  3  1  2  4  6  7  9 10 11 12 13 14 15 16 17 18 19 20]\n",
      "Lasso(alpha=0.00015000000000000001)\n"
     ]
    }
   ],
   "source": [
    "for result in lasso_search_2.cv_results_:\n",
    "    print(result, lasso_search_2.cv_results_[result])\n",
    "    print(lasso_search_2.best_estimator_)"
   ]
  },
  {
   "cell_type": "code",
   "execution_count": 162,
   "id": "88a8c6c9",
   "metadata": {},
   "outputs": [
    {
     "data": {
      "text/plain": [
       "dict_keys(['explained_variance', 'r2', 'max_error', 'neg_median_absolute_error', 'neg_mean_absolute_error', 'neg_mean_absolute_percentage_error', 'neg_mean_squared_error', 'neg_mean_squared_log_error', 'neg_root_mean_squared_error', 'neg_mean_poisson_deviance', 'neg_mean_gamma_deviance', 'accuracy', 'top_k_accuracy', 'roc_auc', 'roc_auc_ovr', 'roc_auc_ovo', 'roc_auc_ovr_weighted', 'roc_auc_ovo_weighted', 'balanced_accuracy', 'average_precision', 'neg_log_loss', 'neg_brier_score', 'adjusted_rand_score', 'rand_score', 'homogeneity_score', 'completeness_score', 'v_measure_score', 'mutual_info_score', 'adjusted_mutual_info_score', 'normalized_mutual_info_score', 'fowlkes_mallows_score', 'precision', 'precision_macro', 'precision_micro', 'precision_samples', 'precision_weighted', 'recall', 'recall_macro', 'recall_micro', 'recall_samples', 'recall_weighted', 'f1', 'f1_macro', 'f1_micro', 'f1_samples', 'f1_weighted', 'jaccard', 'jaccard_macro', 'jaccard_micro', 'jaccard_samples', 'jaccard_weighted'])"
      ]
     },
     "execution_count": 162,
     "metadata": {},
     "output_type": "execute_result"
    }
   ],
   "source": [
    "sklearn.metrics.SCORERS.keys()"
   ]
  },
  {
   "cell_type": "code",
   "execution_count": 163,
   "id": "38537e22",
   "metadata": {},
   "outputs": [
    {
     "data": {
      "text/plain": [
       "array([ 0.        ,  0.        ,  0.00177851, -0.        ,  0.        ,\n",
       "        0.01162545,  0.        , -0.        ,  0.        ,  0.        ,\n",
       "        0.        , -0.        , -0.        ,  0.        , -0.        ,\n",
       "        0.02722835,  0.        , -0.        ,  0.02842609,  0.00959643,\n",
       "       -0.03264487,  0.03245199,  0.0388153 ,  0.03579848,  0.03216058,\n",
       "        0.0074216 , -0.        , -0.00230841, -0.00854334, -0.00108656,\n",
       "       -0.        ])"
      ]
     },
     "execution_count": 163,
     "metadata": {},
     "output_type": "execute_result"
    }
   ],
   "source": [
    "model_lasso=Lasso(alpha=0.0015) \n",
    "model_lasso.fit(x, y)  \n",
    "model_lasso.coef_ "
   ]
  },
  {
   "cell_type": "code",
   "execution_count": 164,
   "id": "54b11e38",
   "metadata": {},
   "outputs": [],
   "source": [
    "y_lasso_pred = model_lasso.predict(X_all) "
   ]
  },
  {
   "cell_type": "code",
   "execution_count": 165,
   "id": "3e229603",
   "metadata": {},
   "outputs": [],
   "source": [
    "df_data_final['restatement_prob_model_lasso'] = y_lasso_pred "
   ]
  },
  {
   "cell_type": "code",
   "execution_count": 166,
   "id": "93256c1f",
   "metadata": {},
   "outputs": [
    {
     "data": {
      "text/plain": [
       "0        0.124100\n",
       "1        0.130731\n",
       "2        0.127858\n",
       "3        0.112930\n",
       "4        0.099891\n",
       "           ...   \n",
       "54349    0.075663\n",
       "54350    0.064110\n",
       "54351    0.064593\n",
       "54352    0.063645\n",
       "54353    0.063652\n",
       "Name: restatement_prob_model_lasso, Length: 54354, dtype: float64"
      ]
     },
     "execution_count": 166,
     "metadata": {},
     "output_type": "execute_result"
    }
   ],
   "source": [
    "df_data_final['restatement_prob_model_lasso']"
   ]
  },
  {
   "cell_type": "code",
   "execution_count": 167,
   "id": "57d61b7e",
   "metadata": {},
   "outputs": [
    {
     "data": {
      "text/plain": [
       "count    54354.000000\n",
       "mean         0.071410\n",
       "std          0.026310\n",
       "min         -0.001071\n",
       "25%          0.060780\n",
       "50%          0.064299\n",
       "75%          0.091778\n",
       "max          0.141707\n",
       "Name: restatement_prob_model_lasso, dtype: float64"
      ]
     },
     "execution_count": 167,
     "metadata": {},
     "output_type": "execute_result"
    }
   ],
   "source": [
    "df_data_final['restatement_prob_model_lasso'].describe() "
   ]
  },
  {
   "cell_type": "code",
   "execution_count": 168,
   "id": "9783d370",
   "metadata": {},
   "outputs": [],
   "source": [
    "group_year4 = df_data_final.groupby(['fyear_new'])['restatement_prob_model_lasso'].quantile(0.666).rename('pctile66_model_lasso')\n"
   ]
  },
  {
   "cell_type": "code",
   "execution_count": 169,
   "id": "b01d6b9a",
   "metadata": {},
   "outputs": [
    {
     "data": {
      "text/plain": [
       "fyear_new\n",
       "2001    0.098400\n",
       "2002    0.103562\n",
       "2003    0.100725\n",
       "2004    0.097100\n",
       "2005    0.072669\n",
       "2006    0.064708\n",
       "2007    0.062475\n",
       "2008    0.056114\n",
       "2009    0.062983\n",
       "2010    0.064662\n",
       "2011    0.064611\n",
       "2012    0.064260\n",
       "2013    0.064339\n",
       "2014    0.064524\n",
       "Name: pctile66_model_lasso, dtype: float64"
      ]
     },
     "execution_count": 169,
     "metadata": {},
     "output_type": "execute_result"
    }
   ],
   "source": [
    "group_year4"
   ]
  },
  {
   "cell_type": "code",
   "execution_count": 171,
   "id": "3a86bf21",
   "metadata": {},
   "outputs": [],
   "source": [
    "df_data_final = df_data_final.merge(group_year4, on='fyear_new', how='left')  \n",
    "df_data_final['top_third_model_lasso'] = 0 \n",
    "cond_top_third_lasso = (df_data_final['restatement_prob_model_lasso'] >= df_data_final['pctile66_model_lasso'])\n",
    "df_data_final.loc[cond_top_third_lasso, 'top_third_model_lasso'] = 1"
   ]
  },
  {
   "cell_type": "code",
   "execution_count": 172,
   "id": "4ded698d",
   "metadata": {},
   "outputs": [],
   "source": [
    "cond_select_lasso = (df_data_final['test'] == 1) & (df_data_final['top_third_model_lasso'] == 1) & (df_data_final['restatement'] == 1)"
   ]
  },
  {
   "cell_type": "code",
   "execution_count": 173,
   "id": "e43a4d63",
   "metadata": {},
   "outputs": [
    {
     "data": {
      "text/plain": [
       "175"
      ]
     },
     "execution_count": 173,
     "metadata": {},
     "output_type": "execute_result"
    }
   ],
   "source": [
    "len(df_data_final[cond_select_lasso])"
   ]
  },
  {
   "cell_type": "code",
   "execution_count": 174,
   "id": "a7a9a8a1",
   "metadata": {},
   "outputs": [
    {
     "data": {
      "text/plain": [
       "428"
      ]
     },
     "execution_count": 174,
     "metadata": {},
     "output_type": "execute_result"
    }
   ],
   "source": [
    "cond_how_many_restatement_test= (df_data_final['test'] == 1) & (df_data_final['restatement'] == 1)\n",
    "\n",
    "len(df_data_final[cond_how_many_restatement_test])"
   ]
  },
  {
   "cell_type": "markdown",
   "id": "c1e04b3a",
   "metadata": {},
   "source": [
    "Interpretation: According to the Lasso model, SEC can catch 175/428 restatements, which is higher than OLS (167) and Logit (168) model ."
   ]
  },
  {
   "cell_type": "code",
   "execution_count": 199,
   "id": "e32a340c",
   "metadata": {},
   "outputs": [
    {
     "data": {
      "text/plain": [
       "Lasso(alpha=0.0015)"
      ]
     },
     "execution_count": 199,
     "metadata": {},
     "output_type": "execute_result"
    }
   ],
   "source": [
    "model_lasso2=Lasso(alpha=0.0015)  \n",
    "model_lasso2.fit(x_2, y_2)"
   ]
  },
  {
   "cell_type": "code",
   "execution_count": 200,
   "id": "6cb8d840",
   "metadata": {},
   "outputs": [
    {
     "data": {
      "text/plain": [
       "array([ 0.00000000e+00, -5.77575339e-04,  1.35119517e-01, -0.00000000e+00,\n",
       "       -0.00000000e+00, -7.99777033e-03,  0.00000000e+00, -0.00000000e+00,\n",
       "        0.00000000e+00,  7.80422918e-05, -0.00000000e+00,  2.89557130e-04,\n",
       "       -0.00000000e+00,  0.00000000e+00, -0.00000000e+00,  1.61945779e-03,\n",
       "        0.00000000e+00, -0.00000000e+00,  0.00000000e+00,  0.00000000e+00,\n",
       "        0.00000000e+00, -0.00000000e+00, -0.00000000e+00,  0.00000000e+00,\n",
       "       -0.00000000e+00,  2.11866765e-02, -0.00000000e+00, -0.00000000e+00,\n",
       "        2.70808411e-02,  4.48487687e-03, -3.67187770e-02,  3.39043665e-02,\n",
       "        4.04424198e-02,  3.79247360e-02,  2.64240475e-02,  2.04531659e-03,\n",
       "       -0.00000000e+00, -5.37219216e-03, -9.51471238e-03, -0.00000000e+00,\n",
       "       -0.00000000e+00])"
      ]
     },
     "execution_count": 200,
     "metadata": {},
     "output_type": "execute_result"
    }
   ],
   "source": [
    "model_lasso2.coef_"
   ]
  },
  {
   "cell_type": "code",
   "execution_count": 201,
   "id": "6f35cb26",
   "metadata": {},
   "outputs": [],
   "source": [
    "y_lasso_pred2 = model_lasso2.predict(X_all_2) "
   ]
  },
  {
   "cell_type": "code",
   "execution_count": 202,
   "id": "16f6ff3e",
   "metadata": {},
   "outputs": [],
   "source": [
    "df_data_final['restatement_prob_model_lasso2'] = y_lasso_pred2 "
   ]
  },
  {
   "cell_type": "code",
   "execution_count": 203,
   "id": "a327c6e3",
   "metadata": {},
   "outputs": [
    {
     "data": {
      "text/plain": [
       "0        0.107433\n",
       "1        0.121562\n",
       "2        0.118460\n",
       "3        0.107156\n",
       "4        0.082189\n",
       "           ...   \n",
       "54349    0.082502\n",
       "54350    0.071367\n",
       "54351    0.071239\n",
       "54352    0.072121\n",
       "54353    0.072125\n",
       "Name: restatement_prob_model_lasso2, Length: 54354, dtype: float64"
      ]
     },
     "execution_count": 203,
     "metadata": {},
     "output_type": "execute_result"
    }
   ],
   "source": [
    "df_data_final['restatement_prob_model_lasso2']"
   ]
  },
  {
   "cell_type": "code",
   "execution_count": 204,
   "id": "746e4f4e",
   "metadata": {},
   "outputs": [
    {
     "data": {
      "text/plain": [
       "count    54354.000000\n",
       "mean         0.071181\n",
       "std          0.036448\n",
       "min         -0.013357\n",
       "25%          0.051760\n",
       "50%          0.067484\n",
       "75%          0.089229\n",
       "max          0.260295\n",
       "Name: restatement_prob_model_lasso2, dtype: float64"
      ]
     },
     "execution_count": 204,
     "metadata": {},
     "output_type": "execute_result"
    }
   ],
   "source": [
    "df_data_final['restatement_prob_model_lasso2'].describe() "
   ]
  },
  {
   "cell_type": "code",
   "execution_count": 205,
   "id": "7a2291ea",
   "metadata": {},
   "outputs": [],
   "source": [
    "group_year5 = df_data_final.groupby(['fyear_new'])['restatement_prob_model_lasso2'].quantile(0.666).rename('pctile66_model_lasso')\n"
   ]
  },
  {
   "cell_type": "code",
   "execution_count": 207,
   "id": "673c8eb4",
   "metadata": {},
   "outputs": [],
   "source": [
    "df_data_final = df_data_final.merge(group_year5, on='fyear_new', how='left')  \n",
    "df_data_final['top_third_model_lasso2'] = 0 \n",
    "cond_top_third_lasso2 = (df_data_final['restatement_prob_model_lasso2'] >= df_data_final['pctile66_model_lasso'])\n",
    "df_data_final.loc[cond_top_third_lasso2, 'top_third_model_lasso2'] = 1"
   ]
  },
  {
   "cell_type": "code",
   "execution_count": 208,
   "id": "16ecb978",
   "metadata": {},
   "outputs": [],
   "source": [
    "cond_select_lasso2 = (df_data_final['test'] == 1) & (df_data_final['top_third_model_lasso2'] == 1) & (df_data_final['restatement'] == 1)"
   ]
  },
  {
   "cell_type": "code",
   "execution_count": 209,
   "id": "daae48de",
   "metadata": {},
   "outputs": [
    {
     "data": {
      "text/plain": [
       "204"
      ]
     },
     "execution_count": 209,
     "metadata": {},
     "output_type": "execute_result"
    }
   ],
   "source": [
    "len(df_data_final[cond_select_lasso2]) "
   ]
  },
  {
   "cell_type": "markdown",
   "id": "42f2cad4",
   "metadata": {},
   "source": [
    "Interpretation: According to the Lasso model, SEC can catch 204/428 restatements, which is lower than OLS (230) and Logit (235) model ."
   ]
  }
 ],
 "metadata": {
  "kernelspec": {
   "display_name": "Python 3 (ipykernel)",
   "language": "python",
   "name": "python3"
  },
  "language_info": {
   "codemirror_mode": {
    "name": "ipython",
    "version": 3
   },
   "file_extension": ".py",
   "mimetype": "text/x-python",
   "name": "python",
   "nbconvert_exporter": "python",
   "pygments_lexer": "ipython3",
   "version": "3.9.12"
  }
 },
 "nbformat": 4,
 "nbformat_minor": 5
}
